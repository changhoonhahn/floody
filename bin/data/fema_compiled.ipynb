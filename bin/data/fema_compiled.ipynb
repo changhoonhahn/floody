{
 "cells": [
  {
   "cell_type": "markdown",
   "metadata": {},
   "source": [
    "# preprocess a compiled dataset used in Cano & Hahn (2024)\n",
    "\n",
    "Cano & Hahn (2024) compiled FEMA, FSF, ACS Census, and PRISM Rainfall data. We will preprocess this and use it as a training/testing dataset for `CausalFlow`"
   ]
  },
  {
   "cell_type": "code",
   "execution_count": 1,
   "metadata": {},
   "outputs": [],
   "source": [
    "import os\n",
    "import numpy as np\n",
    "from astropy.table import Table"
   ]
  },
  {
   "cell_type": "code",
   "execution_count": 2,
   "metadata": {},
   "outputs": [],
   "source": [
    "fema = Table.read('/Users/chahah/data/noah/zipcode.fema.fsf.acs.rainfall.csv')"
   ]
  },
  {
   "cell_type": "code",
   "execution_count": 3,
   "metadata": {},
   "outputs": [
    {
     "data": {
      "text/html": [
       "<div><i>Table length=74288</i>\n",
       "<table id=\"table140378729134928\" class=\"table-striped table-bordered table-condensed\">\n",
       "<thead><tr><th>reportedZipcode</th><th>yearOfLoss</th><th>monthOfLoss</th><th>state</th><th>longitude</th><th>latitude</th><th>crs_treat</th><th>communityRatingSystemDiscount</th><th>primaryResidence</th><th>policyCount</th><th>amountPaidOnBuildingClaim</th><th>amountPaidOnContentsClaim</th><th>totalBuildingInsuranceCoverage</th><th>totalContentsInsuranceCoverage</th><th>amountPaidOnTotalClaim</th><th>totalTotalInsuranceCoverage</th><th>zipcode</th><th>count_property</th><th>count_fema_sfha</th><th>pct_fema_sfha</th><th>count_fs_risk_2020_5</th><th>pct_fs_risk_2020_5</th><th>count_fs_risk_2050_5</th><th>pct_fs_risk_2050_5</th><th>count_fs_risk_2020_100</th><th>pct_fs_risk_2020_100</th><th>count_fs_risk_2050_100</th><th>pct_fs_risk_2050_100</th><th>count_fs_risk_2020_500</th><th>pct_fs_risk_2020_500</th><th>count_fs_risk_2050_500</th><th>pct_fs_risk_2050_500</th><th>pct_fs_fema_difference_2020</th><th>avg_risk_score_all</th><th>avg_risk_score_2_10</th><th>avg_risk_fsf_2020_100</th><th>avg_risk_fsf_2020_500</th><th>avg_risk_score_sfha</th><th>avg_risk_score_no_sfha</th><th>count_floodfactor1</th><th>count_floodfactor2</th><th>count_floodfactor3</th><th>count_floodfactor4</th><th>count_floodfactor5</th><th>count_floodfactor6</th><th>count_floodfactor7</th><th>count_floodfactor8</th><th>count_floodfactor9</th><th>count_floodfactor10</th><th>2018.population</th><th>2018.median_household_income</th><th>2018.renter_fraction</th><th>2018.educated_fraction</th><th>2018.white_fraction</th><th>2014.population</th><th>2014.median_household_income</th><th>2014.renter_fraction</th><th>2014.educated_fraction</th><th>2014.white_fraction</th><th>2010.population</th><th>2010.median_household_income</th><th>2010.renter_fraction</th><th>2010.educated_fraction</th><th>2010.white_fraction</th><th>AREA</th><th>mean_rainfall</th><th>sum_rainfall</th><th>median_rainfall</th><th>population</th><th>median_household_income</th><th>renter_fraction</th><th>educated_fraction</th><th>white_fraction</th><th>amountPaidOnTotalClaim_per_policy</th></tr></thead>\n",
       "<thead><tr><th>int64</th><th>int64</th><th>int64</th><th>str2</th><th>float64</th><th>float64</th><th>float64</th><th>float64</th><th>float64</th><th>float64</th><th>float64</th><th>float64</th><th>int64</th><th>int64</th><th>float64</th><th>int64</th><th>int64</th><th>int64</th><th>int64</th><th>float64</th><th>int64</th><th>float64</th><th>int64</th><th>float64</th><th>int64</th><th>float64</th><th>int64</th><th>float64</th><th>int64</th><th>float64</th><th>int64</th><th>float64</th><th>float64</th><th>float64</th><th>float64</th><th>float64</th><th>float64</th><th>float64</th><th>float64</th><th>int64</th><th>int64</th><th>int64</th><th>int64</th><th>int64</th><th>int64</th><th>int64</th><th>int64</th><th>int64</th><th>int64</th><th>int64</th><th>int64</th><th>float64</th><th>float64</th><th>float64</th><th>int64</th><th>int64</th><th>float64</th><th>float64</th><th>float64</th><th>int64</th><th>int64</th><th>float64</th><th>float64</th><th>float64</th><th>float64</th><th>float64</th><th>float64</th><th>float64</th><th>float64</th><th>float64</th><th>float64</th><th>float64</th><th>float64</th><th>float64</th></tr></thead>\n",
       "<tr><td>1001</td><td>2005</td><td>10</td><td>MA</td><td>-72.6</td><td>42.1</td><td>0.0</td><td>11.0</td><td>0.6666666666666666</td><td>3.0</td><td>5958.55</td><td>0.0</td><td>455800</td><td>26400</td><td>5958.55</td><td>482200</td><td>1001</td><td>5343</td><td>499</td><td>9.3</td><td>574</td><td>10.7</td><td>673</td><td>12.6</td><td>1208</td><td>22.6</td><td>1228</td><td>23.0</td><td>1478</td><td>27.7</td><td>1530</td><td>28.6</td><td>13.3</td><td>2.82</td><td>7.34</td><td>8.34</td><td>7.51</td><td>9.65</td><td>2.11</td><td>3813</td><td>52</td><td>104</td><td>122</td><td>40</td><td>279</td><td>234</td><td>15</td><td>144</td><td>540</td><td>16064</td><td>66088</td><td>0.21358316733067728</td><td>0.3477663785443089</td><td>0.912101593625498</td><td>17423</td><td>56714</td><td>0.21735636801928485</td><td>0.27717140661029976</td><td>0.9168340699075934</td><td>17380</td><td>63682</td><td>0.18601841196777905</td><td>0.24933451641526175</td><td>0.9336593785960875</td><td>0.005208333333341666</td><td>321.2156677246094</td><td>963.6470031738281</td><td>312.2799987792969</td><td>16064.0</td><td>66088.0</td><td>0.21358316733067728</td><td>0.3477663785443089</td><td>0.912101593625498</td><td>1986.1833333333334</td></tr>\n",
       "<tr><td>1001</td><td>2011</td><td>4</td><td>MA</td><td>-72.6</td><td>42.0</td><td>0.0</td><td>11.0</td><td>1.0</td><td>1.0</td><td>10545.77</td><td>1473.46</td><td>250000</td><td>100000</td><td>12019.23</td><td>350000</td><td>1001</td><td>5343</td><td>499</td><td>9.3</td><td>574</td><td>10.7</td><td>673</td><td>12.6</td><td>1208</td><td>22.6</td><td>1228</td><td>23.0</td><td>1478</td><td>27.7</td><td>1530</td><td>28.6</td><td>13.3</td><td>2.82</td><td>7.34</td><td>8.34</td><td>7.51</td><td>9.65</td><td>2.11</td><td>3813</td><td>52</td><td>104</td><td>122</td><td>40</td><td>279</td><td>234</td><td>15</td><td>144</td><td>540</td><td>16064</td><td>66088</td><td>0.21358316733067728</td><td>0.3477663785443089</td><td>0.912101593625498</td><td>17423</td><td>56714</td><td>0.21735636801928485</td><td>0.27717140661029976</td><td>0.9168340699075934</td><td>17380</td><td>63682</td><td>0.18601841196777905</td><td>0.24933451641526175</td><td>0.9336593785960875</td><td>0.005208333333341666</td><td>147.1486612955729</td><td>441.44598388671875</td><td>147.62399291992188</td><td>16064.0</td><td>66088.0</td><td>0.21358316733067728</td><td>0.3477663785443089</td><td>0.912101593625498</td><td>12019.23</td></tr>\n",
       "<tr><td>1001</td><td>2011</td><td>8</td><td>MA</td><td>-72.6</td><td>42.1</td><td>0.0</td><td>11.0</td><td>1.0</td><td>2.0</td><td>9320.56</td><td>0.0</td><td>262000</td><td>5000</td><td>9320.56</td><td>267000</td><td>1001</td><td>5343</td><td>499</td><td>9.3</td><td>574</td><td>10.7</td><td>673</td><td>12.6</td><td>1208</td><td>22.6</td><td>1228</td><td>23.0</td><td>1478</td><td>27.7</td><td>1530</td><td>28.6</td><td>13.3</td><td>2.82</td><td>7.34</td><td>8.34</td><td>7.51</td><td>9.65</td><td>2.11</td><td>3813</td><td>52</td><td>104</td><td>122</td><td>40</td><td>279</td><td>234</td><td>15</td><td>144</td><td>540</td><td>16064</td><td>66088</td><td>0.21358316733067728</td><td>0.3477663785443089</td><td>0.912101593625498</td><td>17423</td><td>56714</td><td>0.21735636801928485</td><td>0.27717140661029976</td><td>0.9168340699075934</td><td>17380</td><td>63682</td><td>0.18601841196777905</td><td>0.24933451641526175</td><td>0.9336593785960875</td><td>0.005208333333341666</td><td>266.2306620279948</td><td>798.6919860839844</td><td>266.02899169921875</td><td>16064.0</td><td>66088.0</td><td>0.21358316733067728</td><td>0.3477663785443089</td><td>0.912101593625498</td><td>4660.28</td></tr>\n",
       "<tr><td>1001</td><td>2014</td><td>8</td><td>MA</td><td>-72.6</td><td>42.1</td><td>0.0</td><td>11.0</td><td>1.0</td><td>1.0</td><td>590.26</td><td>0.0</td><td>250000</td><td>100000</td><td>590.26</td><td>350000</td><td>1001</td><td>5343</td><td>499</td><td>9.3</td><td>574</td><td>10.7</td><td>673</td><td>12.6</td><td>1208</td><td>22.6</td><td>1228</td><td>23.0</td><td>1478</td><td>27.7</td><td>1530</td><td>28.6</td><td>13.3</td><td>2.82</td><td>7.34</td><td>8.34</td><td>7.51</td><td>9.65</td><td>2.11</td><td>3813</td><td>52</td><td>104</td><td>122</td><td>40</td><td>279</td><td>234</td><td>15</td><td>144</td><td>540</td><td>16064</td><td>66088</td><td>0.21358316733067728</td><td>0.3477663785443089</td><td>0.912101593625498</td><td>17423</td><td>56714</td><td>0.21735636801928485</td><td>0.27717140661029976</td><td>0.9168340699075934</td><td>17380</td><td>63682</td><td>0.18601841196777905</td><td>0.24933451641526175</td><td>0.9336593785960875</td><td>0.005208333333341666</td><td>99.75433349609375</td><td>299.26300048828125</td><td>101.04000091552734</td><td>16064.0</td><td>66088.0</td><td>0.21358316733067728</td><td>0.3477663785443089</td><td>0.912101593625498</td><td>590.26</td></tr>\n",
       "<tr><td>1005</td><td>2005</td><td>10</td><td>MA</td><td>-72.1</td><td>42.4</td><td>0.0</td><td>11.0</td><td>1.0</td><td>1.0</td><td>5900.0</td><td>0.0</td><td>100000</td><td>40000</td><td>5900.0</td><td>140000</td><td>1005</td><td>2981</td><td>0</td><td>0.0</td><td>207</td><td>6.9</td><td>220</td><td>7.4</td><td>403</td><td>13.5</td><td>412</td><td>13.8</td><td>476</td><td>16.0</td><td>483</td><td>16.2</td><td>13.5</td><td>2.02</td><td>7.31</td><td>8.0</td><td>7.39</td><td>--</td><td>2.02</td><td>2498</td><td>7</td><td>20</td><td>40</td><td>20</td><td>100</td><td>74</td><td>18</td><td>104</td><td>100</td><td>5166</td><td>80060</td><td>0.06736353077816493</td><td>0.37786472889882616</td><td>0.9440572977158344</td><td>5228</td><td>70568</td><td>0.13905891354246366</td><td>0.279876854184159</td><td>0.9684391736801836</td><td>5120</td><td>75856</td><td>0.0740234375</td><td>0.27443498679189904</td><td>0.9833984375</td><td>0.01388888888891111</td><td>384.734375</td><td>3077.875</td><td>383.4235076904297</td><td>5166.0</td><td>80060.0</td><td>0.06736353077816493</td><td>0.37786472889882616</td><td>0.9440572977158344</td><td>5900.0</td></tr>\n",
       "<tr><td>1005</td><td>2011</td><td>9</td><td>MA</td><td>-72.1</td><td>42.4</td><td>0.0</td><td>11.0</td><td>1.0</td><td>1.0</td><td>440.41</td><td>0.0</td><td>122000</td><td>0</td><td>440.41</td><td>122000</td><td>1005</td><td>2981</td><td>0</td><td>0.0</td><td>207</td><td>6.9</td><td>220</td><td>7.4</td><td>403</td><td>13.5</td><td>412</td><td>13.8</td><td>476</td><td>16.0</td><td>483</td><td>16.2</td><td>13.5</td><td>2.02</td><td>7.31</td><td>8.0</td><td>7.39</td><td>--</td><td>2.02</td><td>2498</td><td>7</td><td>20</td><td>40</td><td>20</td><td>100</td><td>74</td><td>18</td><td>104</td><td>100</td><td>5166</td><td>80060</td><td>0.06736353077816493</td><td>0.37786472889882616</td><td>0.9440572977158344</td><td>5228</td><td>70568</td><td>0.13905891354246366</td><td>0.279876854184159</td><td>0.9684391736801836</td><td>5120</td><td>75856</td><td>0.0740234375</td><td>0.27443498679189904</td><td>0.9833984375</td><td>0.01388888888891111</td><td>193.8615016937256</td><td>1550.8920135498047</td><td>194.7154998779297</td><td>5166.0</td><td>80060.0</td><td>0.06736353077816493</td><td>0.37786472889882616</td><td>0.9440572977158344</td><td>440.41</td></tr>\n",
       "<tr><td>1010</td><td>2005</td><td>10</td><td>MA</td><td>-72.25</td><td>42.1</td><td>0.0</td><td>11.0</td><td>1.0</td><td>2.0</td><td>20710.43</td><td>10233.7</td><td>302000</td><td>50000</td><td>30944.13</td><td>352000</td><td>1010</td><td>2313</td><td>109</td><td>4.7</td><td>188</td><td>8.1</td><td>194</td><td>8.4</td><td>319</td><td>13.8</td><td>327</td><td>14.1</td><td>382</td><td>16.5</td><td>388</td><td>16.8</td><td>9.1</td><td>2.08</td><td>7.45</td><td>8.24</td><td>7.53</td><td>6.27</td><td>1.88</td><td>1925</td><td>5</td><td>21</td><td>33</td><td>16</td><td>63</td><td>50</td><td>12</td><td>98</td><td>90</td><td>3663</td><td>75577</td><td>0.0990990990990991</td><td>0.4061482820976492</td><td>0.844935844935845</td><td>3718</td><td>83273</td><td>0.15680473372781065</td><td>0.37522702506356703</td><td>0.9959655728886498</td><td>3610</td><td>79891</td><td>0.13573407202216067</td><td>0.4048551292090838</td><td>1.0</td><td>0.010416666666683332</td><td>386.77833048502606</td><td>2320.6699829101562</td><td>384.2050018310547</td><td>3663.0</td><td>75577.0</td><td>0.0990990990990991</td><td>0.4061482820976492</td><td>0.844935844935845</td><td>15472.065</td></tr>\n",
       "<tr><td>1010</td><td>2008</td><td>9</td><td>MA</td><td>-72.3</td><td>42.1</td><td>0.0</td><td>11.0</td><td>1.0</td><td>1.0</td><td>5708.93</td><td>0.0</td><td>182000</td><td>0</td><td>5708.93</td><td>182000</td><td>1010</td><td>2313</td><td>109</td><td>4.7</td><td>188</td><td>8.1</td><td>194</td><td>8.4</td><td>319</td><td>13.8</td><td>327</td><td>14.1</td><td>382</td><td>16.5</td><td>388</td><td>16.8</td><td>9.1</td><td>2.08</td><td>7.45</td><td>8.24</td><td>7.53</td><td>6.27</td><td>1.88</td><td>1925</td><td>5</td><td>21</td><td>33</td><td>16</td><td>63</td><td>50</td><td>12</td><td>98</td><td>90</td><td>3663</td><td>75577</td><td>0.0990990990990991</td><td>0.4061482820976492</td><td>0.844935844935845</td><td>3718</td><td>83273</td><td>0.15680473372781065</td><td>0.37522702506356703</td><td>0.9959655728886498</td><td>3610</td><td>79891</td><td>0.13573407202216067</td><td>0.4048551292090838</td><td>1.0</td><td>0.010416666666683332</td><td>230.09366353352863</td><td>1380.5619812011719</td><td>229.94249725341797</td><td>3663.0</td><td>75577.0</td><td>0.0990990990990991</td><td>0.4061482820976492</td><td>0.844935844935845</td><td>5708.93</td></tr>\n",
       "<tr><td>1010</td><td>2011</td><td>8</td><td>MA</td><td>-72.3</td><td>42.1</td><td>0.0</td><td>11.0</td><td>1.0</td><td>1.0</td><td>4778.93</td><td>0.0</td><td>250000</td><td>0</td><td>4778.93</td><td>250000</td><td>1010</td><td>2313</td><td>109</td><td>4.7</td><td>188</td><td>8.1</td><td>194</td><td>8.4</td><td>319</td><td>13.8</td><td>327</td><td>14.1</td><td>382</td><td>16.5</td><td>388</td><td>16.8</td><td>9.1</td><td>2.08</td><td>7.45</td><td>8.24</td><td>7.53</td><td>6.27</td><td>1.88</td><td>1925</td><td>5</td><td>21</td><td>33</td><td>16</td><td>63</td><td>50</td><td>12</td><td>98</td><td>90</td><td>3663</td><td>75577</td><td>0.0990990990990991</td><td>0.4061482820976492</td><td>0.844935844935845</td><td>3718</td><td>83273</td><td>0.15680473372781065</td><td>0.37522702506356703</td><td>0.9959655728886498</td><td>3610</td><td>79891</td><td>0.13573407202216067</td><td>0.4048551292090838</td><td>1.0</td><td>0.010416666666683332</td><td>327.1296641031901</td><td>1962.7779846191406</td><td>323.32598876953125</td><td>3663.0</td><td>75577.0</td><td>0.0990990990990991</td><td>0.4061482820976492</td><td>0.844935844935845</td><td>4778.93</td></tr>\n",
       "<tr><td>1011</td><td>2005</td><td>10</td><td>MA</td><td>-72.975</td><td>42.3</td><td>0.0</td><td>11.0</td><td>1.0</td><td>4.0</td><td>31478.090000000004</td><td>1827.95</td><td>301000</td><td>46300</td><td>33306.04</td><td>347300</td><td>1011</td><td>1108</td><td>167</td><td>15.1</td><td>150</td><td>13.5</td><td>156</td><td>14.1</td><td>306</td><td>27.6</td><td>313</td><td>28.2</td><td>342</td><td>30.9</td><td>343</td><td>31.0</td><td>12.5</td><td>3.06</td><td>7.66</td><td>8.12</td><td>7.68</td><td>7.55</td><td>2.26</td><td>765</td><td>1</td><td>16</td><td>13</td><td>6</td><td>56</td><td>88</td><td>10</td><td>67</td><td>86</td><td>1486</td><td>71921</td><td>0.28061911170928666</td><td>0.17417417417417416</td><td>0.9656796769851952</td><td>1523</td><td>74722</td><td>0.13525935653315824</td><td>0.1875</td><td>0.9599474720945502</td><td>1326</td><td>59732</td><td>0.09577677224736049</td><td>0.13908629441624365</td><td>0.971342383107089</td><td>0.01215277777779722</td><td>403.3772888183594</td><td>2823.6410217285156</td><td>407.2359924316406</td><td>1486.0</td><td>71921.0</td><td>0.28061911170928666</td><td>0.17417417417417416</td><td>0.9656796769851952</td><td>8326.51</td></tr>\n",
       "<tr><td>...</td><td>...</td><td>...</td><td>...</td><td>...</td><td>...</td><td>...</td><td>...</td><td>...</td><td>...</td><td>...</td><td>...</td><td>...</td><td>...</td><td>...</td><td>...</td><td>...</td><td>...</td><td>...</td><td>...</td><td>...</td><td>...</td><td>...</td><td>...</td><td>...</td><td>...</td><td>...</td><td>...</td><td>...</td><td>...</td><td>...</td><td>...</td><td>...</td><td>...</td><td>...</td><td>...</td><td>...</td><td>...</td><td>...</td><td>...</td><td>...</td><td>...</td><td>...</td><td>...</td><td>...</td><td>...</td><td>...</td><td>...</td><td>...</td><td>...</td><td>...</td><td>...</td><td>...</td><td>...</td><td>...</td><td>...</td><td>...</td><td>...</td><td>...</td><td>...</td><td>...</td><td>...</td><td>...</td><td>...</td><td>...</td><td>...</td><td>...</td><td>...</td><td>...</td><td>...</td><td>...</td><td>...</td><td>...</td><td>...</td></tr>\n",
       "<tr><td>99361</td><td>2019</td><td>4</td><td>WA</td><td>-118.1</td><td>46.3</td><td>0.0</td><td>11.0</td><td>1.0</td><td>1.0</td><td>17520.0</td><td>0.0</td><td>175200</td><td>1200</td><td>17520.0</td><td>176400</td><td>99361</td><td>2405</td><td>268</td><td>11.1</td><td>323</td><td>13.4</td><td>340</td><td>14.1</td><td>884</td><td>36.8</td><td>900</td><td>37.4</td><td>1129</td><td>46.9</td><td>1158</td><td>48.1</td><td>25.6</td><td>3.58</td><td>6.35</td><td>7.21</td><td>6.44</td><td>5.72</td><td>3.31</td><td>1247</td><td>34</td><td>93</td><td>282</td><td>21</td><td>260</td><td>85</td><td>14</td><td>181</td><td>188</td><td>1795</td><td>68125</td><td>0.2384401114206128</td><td>0.25317460317460316</td><td>0.8974930362116992</td><td>1747</td><td>55588</td><td>0.24613623354321695</td><td>0.2816326530612245</td><td>0.9645105895821409</td><td>1764</td><td>49183</td><td>0.32596371882086167</td><td>0.27855382087099423</td><td>0.9756235827664399</td><td>0.08680555555569444</td><td>109.52066009521484</td><td>5476.033004760742</td><td>86.11950302124023</td><td>1795.0</td><td>68125.0</td><td>0.2384401114206128</td><td>0.25317460317460316</td><td>0.8974930362116992</td><td>17520.0</td></tr>\n",
       "<tr><td>99361</td><td>2020</td><td>2</td><td>WA</td><td>-118.13636363636364</td><td>46.3</td><td>0.0</td><td>11.0</td><td>0.9393939393939394</td><td>33.0</td><td>926935.95</td><td>6041.8099999999995</td><td>4966400</td><td>387600</td><td>932977.76</td><td>5354000</td><td>99361</td><td>2405</td><td>268</td><td>11.1</td><td>323</td><td>13.4</td><td>340</td><td>14.1</td><td>884</td><td>36.8</td><td>900</td><td>37.4</td><td>1129</td><td>46.9</td><td>1158</td><td>48.1</td><td>25.6</td><td>3.58</td><td>6.35</td><td>7.21</td><td>6.44</td><td>5.72</td><td>3.31</td><td>1247</td><td>34</td><td>93</td><td>282</td><td>21</td><td>260</td><td>85</td><td>14</td><td>181</td><td>188</td><td>1795</td><td>68125</td><td>0.2384401114206128</td><td>0.25317460317460316</td><td>0.8974930362116992</td><td>1747</td><td>55588</td><td>0.24613623354321695</td><td>0.2816326530612245</td><td>0.9645105895821409</td><td>1764</td><td>49183</td><td>0.32596371882086167</td><td>0.27855382087099423</td><td>0.9756235827664399</td><td>0.08680555555569444</td><td>127.97440048217774</td><td>6398.720024108887</td><td>88.95149993896484</td><td>1795.0</td><td>68125.0</td><td>0.2384401114206128</td><td>0.25317460317460316</td><td>0.8974930362116992</td><td>28272.053333333333</td></tr>\n",
       "<tr><td>99362</td><td>2004</td><td>1</td><td>WA</td><td>-118.3</td><td>46.1</td><td>0.0</td><td>11.0</td><td>1.0</td><td>1.0</td><td>6295.93</td><td>0.0</td><td>150000</td><td>38000</td><td>6295.93</td><td>188000</td><td>99362</td><td>17816</td><td>159</td><td>0.9</td><td>459</td><td>2.6</td><td>499</td><td>2.8</td><td>3686</td><td>20.7</td><td>4161</td><td>23.4</td><td>9349</td><td>52.5</td><td>9583</td><td>53.8</td><td>19.8</td><td>2.81</td><td>4.36</td><td>6.15</td><td>4.42</td><td>6.31</td><td>2.78</td><td>8230</td><td>294</td><td>4241</td><td>2054</td><td>296</td><td>1326</td><td>798</td><td>98</td><td>290</td><td>189</td><td>41779</td><td>60413</td><td>0.28294119055027644</td><td>0.2819053754205139</td><td>0.8249838435577682</td><td>41752</td><td>48651</td><td>0.3011352749568883</td><td>0.2888784675877494</td><td>0.8475282621191799</td><td>41274</td><td>46250</td><td>0.2967001017589766</td><td>0.2554155614500442</td><td>0.8591122740708437</td><td>0.07291666666678333</td><td>91.90664255051388</td><td>3860.078987121583</td><td>82.97750091552734</td><td>41779.0</td><td>60413.0</td><td>0.28294119055027644</td><td>0.2819053754205139</td><td>0.8249838435577682</td><td>6295.93</td></tr>\n",
       "<tr><td>99362</td><td>2005</td><td>5</td><td>WA</td><td>-118.3</td><td>46.0</td><td>0.0</td><td>11.0</td><td>1.0</td><td>1.0</td><td>1163.99</td><td>9944.47</td><td>250000</td><td>85000</td><td>11108.46</td><td>335000</td><td>99362</td><td>17816</td><td>159</td><td>0.9</td><td>459</td><td>2.6</td><td>499</td><td>2.8</td><td>3686</td><td>20.7</td><td>4161</td><td>23.4</td><td>9349</td><td>52.5</td><td>9583</td><td>53.8</td><td>19.8</td><td>2.81</td><td>4.36</td><td>6.15</td><td>4.42</td><td>6.31</td><td>2.78</td><td>8230</td><td>294</td><td>4241</td><td>2054</td><td>296</td><td>1326</td><td>798</td><td>98</td><td>290</td><td>189</td><td>41779</td><td>60413</td><td>0.28294119055027644</td><td>0.2819053754205139</td><td>0.8249838435577682</td><td>41752</td><td>48651</td><td>0.3011352749568883</td><td>0.2888784675877494</td><td>0.8475282621191799</td><td>41274</td><td>46250</td><td>0.2967001017589766</td><td>0.2554155614500442</td><td>0.8591122740708437</td><td>0.07291666666678333</td><td>68.80054764520554</td><td>2889.623001098633</td><td>63.41150093078613</td><td>41779.0</td><td>60413.0</td><td>0.28294119055027644</td><td>0.2819053754205139</td><td>0.8249838435577682</td><td>11108.46</td></tr>\n",
       "<tr><td>99362</td><td>2017</td><td>3</td><td>WA</td><td>-118.3</td><td>46.0</td><td>0.0</td><td>11.0</td><td>1.0</td><td>1.0</td><td>2176.02</td><td>0.0</td><td>250000</td><td>0</td><td>2176.02</td><td>250000</td><td>99362</td><td>17816</td><td>159</td><td>0.9</td><td>459</td><td>2.6</td><td>499</td><td>2.8</td><td>3686</td><td>20.7</td><td>4161</td><td>23.4</td><td>9349</td><td>52.5</td><td>9583</td><td>53.8</td><td>19.8</td><td>2.81</td><td>4.36</td><td>6.15</td><td>4.42</td><td>6.31</td><td>2.78</td><td>8230</td><td>294</td><td>4241</td><td>2054</td><td>296</td><td>1326</td><td>798</td><td>98</td><td>290</td><td>189</td><td>41779</td><td>60413</td><td>0.28294119055027644</td><td>0.2819053754205139</td><td>0.8249838435577682</td><td>41752</td><td>48651</td><td>0.3011352749568883</td><td>0.2888784675877494</td><td>0.8475282621191799</td><td>41274</td><td>46250</td><td>0.2967001017589766</td><td>0.2554155614500442</td><td>0.8591122740708437</td><td>0.07291666666678333</td><td>120.11911891755602</td><td>5045.002994537353</td><td>94.52900314331055</td><td>41779.0</td><td>60413.0</td><td>0.28294119055027644</td><td>0.2819053754205139</td><td>0.8249838435577682</td><td>2176.02</td></tr>\n",
       "<tr><td>99362</td><td>2019</td><td>4</td><td>WA</td><td>-118.19999999999999</td><td>46.0</td><td>0.0</td><td>11.0</td><td>1.0</td><td>2.0</td><td>36006.82</td><td>0.0</td><td>431000</td><td>200000</td><td>36006.82</td><td>631000</td><td>99362</td><td>17816</td><td>159</td><td>0.9</td><td>459</td><td>2.6</td><td>499</td><td>2.8</td><td>3686</td><td>20.7</td><td>4161</td><td>23.4</td><td>9349</td><td>52.5</td><td>9583</td><td>53.8</td><td>19.8</td><td>2.81</td><td>4.36</td><td>6.15</td><td>4.42</td><td>6.31</td><td>2.78</td><td>8230</td><td>294</td><td>4241</td><td>2054</td><td>296</td><td>1326</td><td>798</td><td>98</td><td>290</td><td>189</td><td>41779</td><td>60413</td><td>0.28294119055027644</td><td>0.2819053754205139</td><td>0.8249838435577682</td><td>41752</td><td>48651</td><td>0.3011352749568883</td><td>0.2888784675877494</td><td>0.8475282621191799</td><td>41274</td><td>46250</td><td>0.2967001017589766</td><td>0.2554155614500442</td><td>0.8591122740708437</td><td>0.07291666666678333</td><td>95.13754808335077</td><td>3995.777019500732</td><td>76.51950073242188</td><td>41779.0</td><td>60413.0</td><td>0.28294119055027644</td><td>0.2819053754205139</td><td>0.8249838435577682</td><td>18003.41</td></tr>\n",
       "<tr><td>99362</td><td>2020</td><td>2</td><td>WA</td><td>-118.16153846153847</td><td>46.00769230769231</td><td>0.0</td><td>11.0</td><td>0.7692307692307693</td><td>13.0</td><td>445476.56</td><td>26162.38</td><td>2445100</td><td>749900</td><td>471638.94</td><td>3195000</td><td>99362</td><td>17816</td><td>159</td><td>0.9</td><td>459</td><td>2.6</td><td>499</td><td>2.8</td><td>3686</td><td>20.7</td><td>4161</td><td>23.4</td><td>9349</td><td>52.5</td><td>9583</td><td>53.8</td><td>19.8</td><td>2.81</td><td>4.36</td><td>6.15</td><td>4.42</td><td>6.31</td><td>2.78</td><td>8230</td><td>294</td><td>4241</td><td>2054</td><td>296</td><td>1326</td><td>798</td><td>98</td><td>290</td><td>189</td><td>41779</td><td>60413</td><td>0.28294119055027644</td><td>0.2819053754205139</td><td>0.8249838435577682</td><td>41752</td><td>48651</td><td>0.3011352749568883</td><td>0.2888784675877494</td><td>0.8475282621191799</td><td>41274</td><td>46250</td><td>0.2967001017589766</td><td>0.2554155614500442</td><td>0.8591122740708437</td><td>0.07291666666678333</td><td>95.321571622576</td><td>4003.506008148192</td><td>66.78450012207031</td><td>41779.0</td><td>60413.0</td><td>0.28294119055027644</td><td>0.2819053754205139</td><td>0.8249838435577682</td><td>36279.91846153846</td></tr>\n",
       "<tr><td>99371</td><td>2008</td><td>2</td><td>WA</td><td>-118.3</td><td>46.8</td><td>0.0</td><td>11.0</td><td>1.0</td><td>1.0</td><td>2241.04</td><td>0.0</td><td>33500</td><td>0</td><td>2241.04</td><td>33500</td><td>99371</td><td>717</td><td>135</td><td>18.8</td><td>20</td><td>2.8</td><td>21</td><td>2.9</td><td>236</td><td>32.9</td><td>241</td><td>33.6</td><td>275</td><td>38.4</td><td>277</td><td>38.6</td><td>14.1</td><td>3.01</td><td>6.21</td><td>6.6</td><td>6.24</td><td>5.92</td><td>2.34</td><td>440</td><td>2</td><td>7</td><td>27</td><td>12</td><td>125</td><td>78</td><td>6</td><td>17</td><td>3</td><td>327</td><td>56607</td><td>0.39143730886850153</td><td>0.2222222222222222</td><td>0.9418960244648318</td><td>414</td><td>60417</td><td>0.18840579710144928</td><td>0.12745098039215685</td><td>0.9468599033816425</td><td>224</td><td>35000</td><td>0.21875</td><td>0.1256544502617801</td><td>0.9776785714285714</td><td>0.09895833333349166</td><td>16.691263098465768</td><td>951.4019966125488</td><td>15.732000350952148</td><td>327.0</td><td>56607.0</td><td>0.39143730886850153</td><td>0.2222222222222222</td><td>0.9418960244648318</td><td>2241.04</td></tr>\n",
       "<tr><td>99401</td><td>2017</td><td>2</td><td>WA</td><td>-117.3</td><td>46.0</td><td>0.0</td><td>11.0</td><td>0.0</td><td>1.0</td><td>38815.32</td><td>0.0</td><td>250000</td><td>60700</td><td>38815.32</td><td>310700</td><td>99401</td><td>1463</td><td>11</td><td>0.8</td><td>146</td><td>10.0</td><td>148</td><td>10.1</td><td>182</td><td>12.4</td><td>186</td><td>12.7</td><td>210</td><td>14.4</td><td>214</td><td>14.6</td><td>11.7</td><td>2.06</td><td>8.24</td><td>9.03</td><td>8.36</td><td>8.82</td><td>2.01</td><td>1249</td><td>4</td><td>8</td><td>16</td><td>7</td><td>23</td><td>9</td><td>2</td><td>35</td><td>110</td><td>376</td><td>68672</td><td>0.0</td><td>0.47093023255813954</td><td>1.0</td><td>264</td><td>61480</td><td>0.14772727272727273</td><td>0.0</td><td>1.0</td><td>231</td><td>65391</td><td>0.21645021645021645</td><td>0.045</td><td>1.0</td><td>0.03819444444450555</td><td>65.56250052018599</td><td>1442.3750114440918</td><td>65.51399993896484</td><td>376.0</td><td>68672.0</td><td>0.0</td><td>0.47093023255813954</td><td>1.0</td><td>38815.32</td></tr>\n",
       "<tr><td>99402</td><td>2010</td><td>6</td><td>WA</td><td>-117.0</td><td>46.3</td><td>0.0</td><td>11.0</td><td>1.0</td><td>1.0</td><td>4403.57</td><td>0.0</td><td>250000</td><td>100000</td><td>4403.57</td><td>350000</td><td>99402</td><td>2611</td><td>78</td><td>3.0</td><td>271</td><td>10.4</td><td>288</td><td>11.0</td><td>548</td><td>21.0</td><td>568</td><td>21.8</td><td>642</td><td>24.6</td><td>651</td><td>24.9</td><td>18.0</td><td>2.59</td><td>7.39</td><td>8.0</td><td>7.47</td><td>6.71</td><td>2.47</td><td>1960</td><td>9</td><td>23</td><td>44</td><td>26</td><td>223</td><td>33</td><td>2</td><td>76</td><td>215</td><td>1597</td><td>54250</td><td>0.1659361302442079</td><td>0.23183673469387756</td><td>0.9386349405134627</td><td>1794</td><td>57621</td><td>0.23745819397993312</td><td>0.24714828897338403</td><td>0.947603121516165</td><td>1619</td><td>50682</td><td>0.35145151327980234</td><td>0.19363891487371376</td><td>0.897467572575664</td><td>0.06770833333344166</td><td>79.97082020686226</td><td>3118.861988067628</td><td>79.99500274658203</td><td>1597.0</td><td>54250.0</td><td>0.1659361302442079</td><td>0.23183673469387756</td><td>0.9386349405134627</td><td>4403.57</td></tr>\n",
       "</table></div>"
      ],
      "text/plain": [
       "<Table length=74288>\n",
       "reportedZipcode yearOfLoss ... amountPaidOnTotalClaim_per_policy\n",
       "     int64        int64    ...              float64             \n",
       "--------------- ---------- ... ---------------------------------\n",
       "           1001       2005 ...                1986.1833333333334\n",
       "           1001       2011 ...                          12019.23\n",
       "           1001       2011 ...                           4660.28\n",
       "           1001       2014 ...                            590.26\n",
       "           1005       2005 ...                            5900.0\n",
       "           1005       2011 ...                            440.41\n",
       "           1010       2005 ...                         15472.065\n",
       "           1010       2008 ...                           5708.93\n",
       "           1010       2011 ...                           4778.93\n",
       "           1011       2005 ...                           8326.51\n",
       "            ...        ... ...                               ...\n",
       "          99361       2019 ...                           17520.0\n",
       "          99361       2020 ...                28272.053333333333\n",
       "          99362       2004 ...                           6295.93\n",
       "          99362       2005 ...                          11108.46\n",
       "          99362       2017 ...                           2176.02\n",
       "          99362       2019 ...                          18003.41\n",
       "          99362       2020 ...                 36279.91846153846\n",
       "          99371       2008 ...                           2241.04\n",
       "          99401       2017 ...                          38815.32\n",
       "          99402       2010 ...                           4403.57"
      ]
     },
     "execution_count": 3,
     "metadata": {},
     "output_type": "execute_result"
    }
   ],
   "source": [
    "fema"
   ]
  },
  {
   "cell_type": "code",
   "execution_count": 10,
   "metadata": {},
   "outputs": [],
   "source": [
    "out = Table()\n",
    "out['ZIPCODE'] = fema['reportedZipcode']\n",
    "out['YEAROFLOSS'] = fema['yearOfLoss']\n",
    "out['MONTHOFLOSS'] = fema['monthOfLoss']\n",
    "out['longitude'] = fema['longitude']\n",
    "out['latitude'] = fema['latitude']\n",
    "out['CRS_TREAT'] = np.array(fema['crs_treat']).astype(bool)\n",
    "out['CRS_SCORE'] = fema['communityRatingSystemDiscount']\n",
    "\n",
    "out['paid_claim_per_policy'] = fema['amountPaidOnTotalClaim_per_policy']\n",
    "out['flood_risk_avg_score'] = fema['avg_risk_score_all']\n",
    "out['mean_monthly_rainfall'] = fema['mean_rainfall']\n",
    "    out['median_household_income'] = fema['median_household_income']\n",
    "out['population'] = fema['population'] \n",
    "out['renter_fraction'] = fema['renter_fraction']\n",
    "out['educated_fraction'] = fema['educated_fraction']\n",
    "out['white_fraction'] = fema['white_fraction']"
   ]
  },
  {
   "cell_type": "markdown",
   "metadata": {},
   "source": [
    "# supplement with additional FSF scores"
   ]
  },
  {
   "cell_type": "code",
   "execution_count": 11,
   "metadata": {},
   "outputs": [],
   "source": [
    "floodrisk = Table.read('/Users/chahah/data/noah/floody.fsf.floodrisk_forecast.hdf5')"
   ]
  },
  {
   "cell_type": "code",
   "execution_count": 12,
   "metadata": {},
   "outputs": [],
   "source": [
    "out['flood_risk100'] = np.empty(len(out))\n",
    "\n",
    "for zcode in np.unique(out['ZIPCODE']): \n",
    "    is_zip0 = (out['ZIPCODE'] == zcode)\n",
    "    is_zip1 = (floodrisk['ZIPCODE'] == zcode)\n",
    "\n",
    "    if np.sum(is_zip1) != 1: raise ValueError\n",
    "\n",
    "    out['flood_risk100'][is_zip0] = floodrisk['risk100.2022'][is_zip1][0]"
   ]
  },
  {
   "cell_type": "markdown",
   "metadata": {},
   "source": [
    "## update PRISM precipitation data \n",
    "NO NEED. THEY ARE VIRTUALLY IDENTICAL"
   ]
  },
  {
   "cell_type": "code",
   "execution_count": 8,
   "metadata": {},
   "outputs": [],
   "source": [
    "rainfall = Table.read('/Users/chahah/data/noah/floody.prism.precip.hdf5')"
   ]
  },
  {
   "cell_type": "code",
   "execution_count": 24,
   "metadata": {},
   "outputs": [
    {
     "name": "stdout",
     "output_type": "stream",
     "text": [
      "321.2156677246094 310.27200317382807\n",
      "147.1486612955729 148.41099548339844\n",
      "266.2306620279948 266.02899169921875\n",
      "99.75433349609375 106.25199890136719\n",
      "384.734375 386.0090026855469\n",
      "193.8615016937256 194.60699462890625\n",
      "386.77833048502606 383.1679992675781\n",
      "230.09366353352863 229.02200317382812\n",
      "327.1296641031901 329.8909912109375\n",
      "403.3772888183594 398.92401123046875\n",
      "305.2252851213728 309.4209899902344\n",
      "331.80557686941967 329.28900146484375\n",
      "108.81371307373047 108.27999877929688\n",
      "117.56942749023438 117.03099822998047\n",
      "158.39100646972656 158.39100646972656\n",
      "397.6507568359375 396.7900085449219\n",
      "304.16100311279297 304.135009765625\n",
      "147.73739624023438 151.66299438476562\n",
      "349.15740356445315 349.6860046386719\n",
      "195.14620361328124 196.34800720214844\n",
      "252.2451965332031 246.25599670410156\n",
      "361.36549377441406 377.6409912109375\n",
      "102.54450225830078 101.99400329589844\n",
      "181.7042663574219 180.56100463867188\n",
      "411.74549865722656 432.4519958496093\n",
      "154.47550201416016 154.43099975585935\n",
      "245.81550216674805 244.22799682617188\n",
      "84.67799949645996 83.69400024414062\n",
      "410.3247985839844 404.88299560546875\n",
      "226.5279968261719 226.35800170898438\n",
      "245.0261993408203 247.0449981689453\n",
      "214.23280029296876 214.08099365234375\n",
      "277.58924865722656 254.177001953125\n",
      "181.3400001525879 176.96200561523438\n",
      "228.5175018310547 225.98899841308597\n",
      "213.66511027018228 196.21400451660156\n",
      "273.18322414822046 269.2149963378906\n",
      "401.9314956665039 403.9280090332031\n",
      "256.2095031738281 250.33700561523438\n",
      "336.2515004475911 342.9320068359375\n",
      "133.9995002746582 132.5019989013672\n",
      "417.25500106811523 420.4800109863281\n",
      "243.6568775177002 247.49000549316406\n",
      "368.25599670410156 394.3389892578125\n",
      "238.9530029296875 239.61399841308597\n",
      "260.9104995727539 285.66400146484375\n",
      "175.94324493408203 183.13699340820312\n",
      "147.8787498474121 149.10899353027344\n",
      "238.51725006103516 248.43899536132812\n",
      "387.4353434244792 387.3030090332031\n",
      "382.9505981445312 382.2430114746093\n",
      "198.6793975830078 201.6529998779297\n",
      "321.66199747721356 276.9599914550781\n",
      "162.43333435058594 166.73800659179688\n",
      "92.48666636149089 103.98200225830078\n",
      "240.13600158691406 236.2220001220703\n",
      "104.93874931335449 102.53199768066406\n",
      "120.22239990234375 115.73100280761719\n",
      "209.22399902343753 202.3699951171875\n",
      "265.6705559624566 251.9080047607422\n",
      "129.7742224799262 122.51899719238281\n",
      "169.7989959716797 172.343994140625\n",
      "170.64299774169922 173.95199584960938\n",
      "251.86949920654297 250.51800537109375\n",
      "127.77799987792969 127.77799987792967\n",
      "372.8590087890625 385.52301025390625\n",
      "218.95399911063058 219.66400146484375\n",
      "288.7715759277344 298.39401245117193\n",
      "428.5473999023437 433.9020080566406\n",
      "86.71669241098256 86.7020034790039\n",
      "100.65115356445312 100.13400268554688\n",
      "373.88346041165863 372.8280029296875\n",
      "189.93107604980472 181.697998046875\n",
      "301.7402296799881 296.8580017089844\n",
      "128.1148446890024 119.3030014038086\n",
      "262.94976571890015 257.0\n",
      "271.84669142503003 272.885986328125\n",
      "375.7026672363281 366.4010009765625\n",
      "195.77032979329428 190.6999969482422\n",
      "316.04266357421875 307.0329895019531\n",
      "126.91466776529948 122.58999633789062\n",
      "412.09166463216144 414.3370056152344\n",
      "206.7579193115234 205.77999877929688\n",
      "68.29075082143147 76.13300323486328\n",
      "299.6656672159831 300.3710021972656\n",
      "388.57879638671875 385.7439880371094\n",
      "145.4384002685547 137.2519989013672\n",
      "256.5805938720703 266.0669860839844\n",
      "295.71880493164065 295.0429992675781\n",
      "409.666796875 399.0199890136719\n",
      "278.8205932617187 274.05999755859375\n",
      "403.75260925292974 407.77398681640625\n",
      "62.22944429185655 58.78799819946289\n",
      "319.45827907986103 325.6319885253907\n",
      "275.75433349609375 270.30499267578125\n",
      "289.31562423706055 281.3420104980469\n",
      "101.85479888916015 102.76699829101562\n",
      "137.02659912109374 138.5070037841797\n",
      "77.6301986694336 79.05999755859375\n",
      "80.8761993408203 82.51499938964844\n"
     ]
    }
   ],
   "source": [
    "for i in range(100): \n",
    "    is_zip = (rainfall['ZIPCODE'] == out['ZIPCODE'][i])\n",
    "    if np.sum(is_zip) != 1: raise ValueError\n",
    "    print(out['mean_monthly_rainfall'][i], rainfall['precip.%i' % out['YEAROFLOSS'][i]][:,out['MONTHOFLOSS'][i]-1][is_zip][0])"
   ]
  },
  {
   "cell_type": "code",
   "execution_count": 25,
   "metadata": {},
   "outputs": [
    {
     "data": {
      "text/html": [
       "<div><i>Table length=74288</i>\n",
       "<table id=\"table140378611543680\" class=\"table-striped table-bordered table-condensed\">\n",
       "<thead><tr><th>ZIPCODE</th><th>YEAROFLOSS</th><th>MONTHOFLOSS</th><th>longitude</th><th>latitude</th><th>CRS_TREAT</th><th>CRS_SCORE</th><th>paid_claim_per_policy</th><th>flood_risk_avg_score</th><th>mean_monthly_rainfall</th><th>median_household_income</th><th>population</th><th>renter_fraction</th><th>educated_fraction</th><th>white_fraction</th><th>flood_risk100</th></tr></thead>\n",
       "<thead><tr><th>int64</th><th>int64</th><th>int64</th><th>float64</th><th>float64</th><th>bool</th><th>float64</th><th>float64</th><th>float64</th><th>float64</th><th>float64</th><th>float64</th><th>float64</th><th>float64</th><th>float64</th><th>float64</th></tr></thead>\n",
       "<tr><td>1001</td><td>2005</td><td>10</td><td>-72.6</td><td>42.1</td><td>False</td><td>11.0</td><td>1986.1833333333334</td><td>2.82</td><td>321.2156677246094</td><td>66088.0</td><td>16064.0</td><td>0.21358316733067728</td><td>0.3477663785443089</td><td>0.912101593625498</td><td>22.4</td></tr>\n",
       "<tr><td>1001</td><td>2011</td><td>4</td><td>-72.6</td><td>42.0</td><td>False</td><td>11.0</td><td>12019.23</td><td>2.82</td><td>147.1486612955729</td><td>66088.0</td><td>16064.0</td><td>0.21358316733067728</td><td>0.3477663785443089</td><td>0.912101593625498</td><td>22.4</td></tr>\n",
       "<tr><td>1001</td><td>2011</td><td>8</td><td>-72.6</td><td>42.1</td><td>False</td><td>11.0</td><td>4660.28</td><td>2.82</td><td>266.2306620279948</td><td>66088.0</td><td>16064.0</td><td>0.21358316733067728</td><td>0.3477663785443089</td><td>0.912101593625498</td><td>22.4</td></tr>\n",
       "<tr><td>1001</td><td>2014</td><td>8</td><td>-72.6</td><td>42.1</td><td>False</td><td>11.0</td><td>590.26</td><td>2.82</td><td>99.75433349609375</td><td>66088.0</td><td>16064.0</td><td>0.21358316733067728</td><td>0.3477663785443089</td><td>0.912101593625498</td><td>22.4</td></tr>\n",
       "<tr><td>1005</td><td>2005</td><td>10</td><td>-72.1</td><td>42.4</td><td>False</td><td>11.0</td><td>5900.0</td><td>2.02</td><td>384.734375</td><td>80060.0</td><td>5166.0</td><td>0.06736353077816493</td><td>0.37786472889882616</td><td>0.9440572977158344</td><td>13.6</td></tr>\n",
       "<tr><td>1005</td><td>2011</td><td>9</td><td>-72.1</td><td>42.4</td><td>False</td><td>11.0</td><td>440.41</td><td>2.02</td><td>193.8615016937256</td><td>80060.0</td><td>5166.0</td><td>0.06736353077816493</td><td>0.37786472889882616</td><td>0.9440572977158344</td><td>13.6</td></tr>\n",
       "<tr><td>1010</td><td>2005</td><td>10</td><td>-72.25</td><td>42.1</td><td>False</td><td>11.0</td><td>15472.065</td><td>2.08</td><td>386.77833048502606</td><td>75577.0</td><td>3663.0</td><td>0.0990990990990991</td><td>0.4061482820976492</td><td>0.844935844935845</td><td>13.7</td></tr>\n",
       "<tr><td>1010</td><td>2008</td><td>9</td><td>-72.3</td><td>42.1</td><td>False</td><td>11.0</td><td>5708.93</td><td>2.08</td><td>230.09366353352863</td><td>75577.0</td><td>3663.0</td><td>0.0990990990990991</td><td>0.4061482820976492</td><td>0.844935844935845</td><td>13.7</td></tr>\n",
       "<tr><td>1010</td><td>2011</td><td>8</td><td>-72.3</td><td>42.1</td><td>False</td><td>11.0</td><td>4778.93</td><td>2.08</td><td>327.1296641031901</td><td>75577.0</td><td>3663.0</td><td>0.0990990990990991</td><td>0.4061482820976492</td><td>0.844935844935845</td><td>13.7</td></tr>\n",
       "<tr><td>1011</td><td>2005</td><td>10</td><td>-72.975</td><td>42.3</td><td>False</td><td>11.0</td><td>8326.51</td><td>3.06</td><td>403.3772888183594</td><td>71921.0</td><td>1486.0</td><td>0.28061911170928666</td><td>0.17417417417417416</td><td>0.9656796769851952</td><td>27.3</td></tr>\n",
       "<tr><td>...</td><td>...</td><td>...</td><td>...</td><td>...</td><td>...</td><td>...</td><td>...</td><td>...</td><td>...</td><td>...</td><td>...</td><td>...</td><td>...</td><td>...</td><td>...</td></tr>\n",
       "<tr><td>99361</td><td>2019</td><td>4</td><td>-118.1</td><td>46.3</td><td>False</td><td>11.0</td><td>17520.0</td><td>3.58</td><td>109.52066009521484</td><td>68125.0</td><td>1795.0</td><td>0.2384401114206128</td><td>0.25317460317460316</td><td>0.8974930362116992</td><td>36.4</td></tr>\n",
       "<tr><td>99361</td><td>2020</td><td>2</td><td>-118.13636363636364</td><td>46.3</td><td>False</td><td>11.0</td><td>28272.053333333333</td><td>3.58</td><td>127.97440048217774</td><td>68125.0</td><td>1795.0</td><td>0.2384401114206128</td><td>0.25317460317460316</td><td>0.8974930362116992</td><td>36.4</td></tr>\n",
       "<tr><td>99362</td><td>2004</td><td>1</td><td>-118.3</td><td>46.1</td><td>False</td><td>11.0</td><td>6295.93</td><td>2.81</td><td>91.90664255051388</td><td>60413.0</td><td>41779.0</td><td>0.28294119055027644</td><td>0.2819053754205139</td><td>0.8249838435577682</td><td>58.4</td></tr>\n",
       "<tr><td>99362</td><td>2005</td><td>5</td><td>-118.3</td><td>46.0</td><td>False</td><td>11.0</td><td>11108.46</td><td>2.81</td><td>68.80054764520554</td><td>60413.0</td><td>41779.0</td><td>0.28294119055027644</td><td>0.2819053754205139</td><td>0.8249838435577682</td><td>58.4</td></tr>\n",
       "<tr><td>99362</td><td>2017</td><td>3</td><td>-118.3</td><td>46.0</td><td>False</td><td>11.0</td><td>2176.02</td><td>2.81</td><td>120.11911891755602</td><td>60413.0</td><td>41779.0</td><td>0.28294119055027644</td><td>0.2819053754205139</td><td>0.8249838435577682</td><td>58.4</td></tr>\n",
       "<tr><td>99362</td><td>2019</td><td>4</td><td>-118.19999999999999</td><td>46.0</td><td>False</td><td>11.0</td><td>18003.41</td><td>2.81</td><td>95.13754808335077</td><td>60413.0</td><td>41779.0</td><td>0.28294119055027644</td><td>0.2819053754205139</td><td>0.8249838435577682</td><td>58.4</td></tr>\n",
       "<tr><td>99362</td><td>2020</td><td>2</td><td>-118.16153846153847</td><td>46.00769230769231</td><td>False</td><td>11.0</td><td>36279.91846153846</td><td>2.81</td><td>95.321571622576</td><td>60413.0</td><td>41779.0</td><td>0.28294119055027644</td><td>0.2819053754205139</td><td>0.8249838435577682</td><td>58.4</td></tr>\n",
       "<tr><td>99371</td><td>2008</td><td>2</td><td>-118.3</td><td>46.8</td><td>False</td><td>11.0</td><td>2241.04</td><td>3.01</td><td>16.691263098465768</td><td>56607.0</td><td>327.0</td><td>0.39143730886850153</td><td>0.2222222222222222</td><td>0.9418960244648318</td><td>33.2</td></tr>\n",
       "<tr><td>99401</td><td>2017</td><td>2</td><td>-117.3</td><td>46.0</td><td>False</td><td>11.0</td><td>38815.32</td><td>2.06</td><td>65.56250052018599</td><td>68672.0</td><td>376.0</td><td>0.0</td><td>0.47093023255813954</td><td>1.0</td><td>12.0</td></tr>\n",
       "<tr><td>99402</td><td>2010</td><td>6</td><td>-117.0</td><td>46.3</td><td>False</td><td>11.0</td><td>4403.57</td><td>2.59</td><td>79.97082020686226</td><td>54250.0</td><td>1597.0</td><td>0.1659361302442079</td><td>0.23183673469387756</td><td>0.9386349405134627</td><td>19.4</td></tr>\n",
       "</table></div>"
      ],
      "text/plain": [
       "<Table length=74288>\n",
       "ZIPCODE YEAROFLOSS MONTHOFLOSS ...   white_fraction   flood_risk100\n",
       " int64    int64       int64    ...      float64          float64   \n",
       "------- ---------- ----------- ... ------------------ -------------\n",
       "   1001       2005          10 ...  0.912101593625498          22.4\n",
       "   1001       2011           4 ...  0.912101593625498          22.4\n",
       "   1001       2011           8 ...  0.912101593625498          22.4\n",
       "   1001       2014           8 ...  0.912101593625498          22.4\n",
       "   1005       2005          10 ... 0.9440572977158344          13.6\n",
       "   1005       2011           9 ... 0.9440572977158344          13.6\n",
       "   1010       2005          10 ...  0.844935844935845          13.7\n",
       "   1010       2008           9 ...  0.844935844935845          13.7\n",
       "   1010       2011           8 ...  0.844935844935845          13.7\n",
       "   1011       2005          10 ... 0.9656796769851952          27.3\n",
       "    ...        ...         ... ...                ...           ...\n",
       "  99361       2019           4 ... 0.8974930362116992          36.4\n",
       "  99361       2020           2 ... 0.8974930362116992          36.4\n",
       "  99362       2004           1 ... 0.8249838435577682          58.4\n",
       "  99362       2005           5 ... 0.8249838435577682          58.4\n",
       "  99362       2017           3 ... 0.8249838435577682          58.4\n",
       "  99362       2019           4 ... 0.8249838435577682          58.4\n",
       "  99362       2020           2 ... 0.8249838435577682          58.4\n",
       "  99371       2008           2 ... 0.9418960244648318          33.2\n",
       "  99401       2017           2 ...                1.0          12.0\n",
       "  99402       2010           6 ... 0.9386349405134627          19.4"
      ]
     },
     "execution_count": 25,
     "metadata": {},
     "output_type": "execute_result"
    }
   ],
   "source": [
    "out"
   ]
  },
  {
   "cell_type": "code",
   "execution_count": 27,
   "metadata": {},
   "outputs": [
    {
     "name": "stderr",
     "output_type": "stream",
     "text": [
      "/opt/anaconda3/envs/noah/lib/python3.8/site-packages/astropy/io/misc/hdf5.py:283: UserWarning: table path was not set via the path= argument; using default path __astropy_table__\n",
      "  warnings.warn(\n"
     ]
    }
   ],
   "source": [
    "out.write('/Users/chahah/data/noah/floody.fema.compiled.hdf5', format='hdf5', overwrite=True)"
   ]
  },
  {
   "cell_type": "code",
   "execution_count": null,
   "metadata": {},
   "outputs": [],
   "source": []
  }
 ],
 "metadata": {
  "kernelspec": {
   "display_name": "noah",
   "language": "python",
   "name": "noah"
  },
  "language_info": {
   "codemirror_mode": {
    "name": "ipython",
    "version": 3
   },
   "file_extension": ".py",
   "mimetype": "text/x-python",
   "name": "python",
   "nbconvert_exporter": "python",
   "pygments_lexer": "ipython3",
   "version": "3.8.8"
  }
 },
 "nbformat": 4,
 "nbformat_minor": 4
}
