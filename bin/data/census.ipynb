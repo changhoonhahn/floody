{
 "cells": [
  {
   "cell_type": "code",
   "execution_count": 1,
   "metadata": {},
   "outputs": [],
   "source": [
    "import os\n",
    "import numpy as np\n",
    "from astropy.table import Table"
   ]
  },
  {
   "cell_type": "code",
   "execution_count": 2,
   "metadata": {},
   "outputs": [],
   "source": [
    "# census from ACS 2016-2020\n",
    "census = Table.read('/scratch/gpfs/chhahn/noah/floody/ACS2016_20new.csv', format='csv')"
   ]
  },
  {
   "cell_type": "code",
   "execution_count": 3,
   "metadata": {},
   "outputs": [],
   "source": [
    "census = census[1:]"
   ]
  },
  {
   "cell_type": "code",
   "execution_count": 4,
   "metadata": {},
   "outputs": [
    {
     "data": {
      "text/html": [
       "<div><i>Table length=33120</i>\n",
       "<table id=\"table22901919073760\" class=\"table-striped table-bordered table-condensed\">\n",
       "<thead><tr><th>FIPS</th><th>Qualifying Name</th><th>File identification</th><th>State Postal Abbreviation</th><th>Summary Level</th><th>Geographic Component</th><th>Logical Record Number</th><th>US</th><th>Census Region</th><th>Census Division</th><th>State (Census Code)</th><th>State (FIPS Code)</th><th>County of current residence</th><th>County Subdivision (FIPS)</th><th>Place (FIPS Code)</th><th>Census Tract</th><th>Block Group</th><th>Consolidated City</th><th>American Indian Area/Alaska Native Area/ Hawaiian Home Land (Census)</th><th>American Indian Area/Alaska Native Area/ Hawaiian Home Land (FIPS)</th><th>American Indian Trust Land/Hawaiian Home Land Indicator</th><th>American Indian Tribal Subdivision (Census)</th><th>American Indian Tribal Subdivision (FIPS)</th><th>Alaska Native Regional Corporation (FIPS)</th><th>Metropolitan and Micropolitan Statistical Area</th><th>Combined Statistical Area</th><th>Metropolitan Statistical Area- Metropolitan Division</th><th>Metropolitan Area Central City</th><th>Metropolitan/Micropolitan Indicator Flag</th><th>New England City and Town Area</th><th>New England City and Town Combined Statistical Area</th><th>New England City and Town Area Division</th><th>Urban Area</th><th>Urban Area Central Place</th><th>Current Congressional District ***</th><th>State Legislative District Upper</th><th>State Legislative District Lower</th><th>Voting District</th><th>ZIP Code Tabulation Area (3-digit)</th><th>5-digit ZIP Code Tabulation Area</th><th>Subminor Civil Division (FIPS)</th><th>State-School District (Elementary)</th><th>State-School District (Secondary)</th><th>State-School District (Unified)</th><th>Urban/Rural</th><th>Principal City Indicator</th><th>Traffic Analysis Zone</th><th>Urban Growth Area</th><th>Public Use Microdata Area – 5% File</th><th>Public Use Microdata Area - 1% File</th><th>Geographic Identifier</th><th>Area Name</th><th>Tribal Tract</th><th>Tribal Block Group</th><th>Place (State FIPS + Place FIPS)</th><th>Total Population</th><th>Total Population_1</th><th>Population Density (Per Sq. Mile)</th><th>Area (Land)</th><th>Total Population:</th><th>Total Population: White Alone</th><th>Total Population: Black or African American Alone</th><th>Total Population: American Indian and Alaska Native Alone</th><th>Total Population: Asian Alone</th><th>Total Population: Native Hawaiian and Other Pacific Islander Alone</th><th>Total Population: Some Other Race Alone</th><th>Total Population: Two or More Races</th><th>Population 25 Years and Over:</th><th>Population 25 Years and Over: Less than High School</th><th>Population 25 Years and Over: High School Graduate or More (Includes Equivalency)</th><th>Population 25 Years and Over: Some College or More</th><th>Population 25 Years and Over: Bachelor&apos;s Degree or More</th><th>Population 25 Years and Over: Master&apos;s Degree or More</th><th>Population 25 Years and Over: Professional School Degree or More</th><th>Population 25 Years and Over: Doctorate Degree</th><th>Renter-Occupied Housing Units</th><th>Renter-Occupied Housing Units: Less than High School Graduate</th><th>Renter-Occupied Housing Units: High School Graduate (Including Equivalency)</th><th>Renter-Occupied Housing Units: Some College or Associate&apos;s Degree</th><th>Renter-Occupied Housing Units: Bachelor&apos;s Degree or Higher</th><th>Median Household Income (In 2020 Inflation Adjusted Dollars)</th><th>Median Household Income (In 2020 Inflation Adjusted Dollars):</th><th>Median Household Income (In 2020 Inflation Adjusted Dollars): White Alone Householder</th><th>Median Household Income (In 2020 Inflation Adjusted Dollars): Black or African American Alone Householder</th><th>Median Household Income (In 2020 Inflation Adjusted Dollars): American Indian and Alaska Native Alone  Householder</th><th>Median Household Income (In 2020 Inflation Adjusted Dollars): Asian Alone</th><th>Median Household Income (In 2020 Inflation Adjusted Dollars): Native Hawaiian and Other Pacific Islander Alone  Householder</th><th>Median Household Income (In 2020 Inflation Adjusted Dollars): Some Other Race Alone Householder</th><th>Median Household Income (In 2020 Inflation Adjusted Dollars): Two or More Races Householder</th><th>Median Household Income (In 2020 Inflation Adjusted Dollars): Hispanic or Latino Householder</th><th>Median Household Income (In 2020 Inflation Adjusted Dollars): White Alone Householder, Not Hispanic or Latino</th><th>Households:</th><th>Households: with Earnings</th><th>Households: No Earnings</th><th>Per Capita Income (In 2020 Inflation Adjusted Dollars)</th><th>Lowest Quintile</th><th>Second Quintile</th><th>Third Quintile</th><th>Fourth Quintile</th><th>Lower Limit of Top 5 Percent</th><th>Occupied Housing Units:</th><th>Occupied Housing Units: Owner Occupied</th><th>Occupied Housing Units: Renter Occupied</th><th>Housing Units:</th><th>Housing Units: Occupied</th><th>Housing Units: Vacant</th><th>Vacant Housing Units:</th><th>Vacant Housing Units: for Rent</th><th>Vacant Housing Units: for Sale Only</th><th>Vacant Housing Units: Other Vacant</th><th>Total Population in Occupied Housing Units: Renter Occupied</th><th>Total Population in Occupied Housing Units: Renter Occupied: 1, Detached or Attached</th><th>Total Population in Occupied Housing Units: Renter Occupied: 2 to 4</th><th>Total Population in Occupied Housing Units: Renter Occupied: 5 or More</th><th>Total Population in Occupied Housing Units: Renter Occupied: Mobile Home</th><th>Total Population in Occupied Housing Units: Renter Occupied: Boat, Rv, Van, Etc.</th><th>Population for Whom Poverty Status Is Determined:</th><th>Population for Whom Poverty Status Is Determined: Under .50</th><th>Population for Whom Poverty Status Is Determined: .50 to .74</th><th>Population for Whom Poverty Status Is Determined: .75 to .99</th><th>Population for Whom Poverty Status Is Determined: 1.00 to 1.49</th><th>Population for Whom Poverty Status Is Determined: 1.50 to 1.99</th><th>Population for Whom Poverty Status Is Determined: 2.00 and Over</th></tr></thead>\n",
       "<thead><tr><th>str8</th><th>str10</th><th>str10</th><th>str10</th><th>str10</th><th>str11</th><th>str12</th><th>str6</th><th>str10</th><th>str12</th><th>str11</th><th>str9</th><th>str10</th><th>str10</th><th>str9</th><th>str9</th><th>str10</th><th>str10</th><th>str10</th><th>str12</th><th>str11</th><th>str10</th><th>str8</th><th>str8</th><th>str8</th><th>str7</th><th>str10</th><th>str8</th><th>str8</th><th>str9</th><th>str10</th><th>str12</th><th>str6</th><th>str8</th><th>str10</th><th>str8</th><th>str8</th><th>str7</th><th>str9</th><th>str9</th><th>str10</th><th>str9</th><th>str9</th><th>str9</th><th>str6</th><th>str7</th><th>str7</th><th>str7</th><th>str9</th><th>str9</th><th>str12</th><th>str10</th><th>str8</th><th>str8</th><th>str11</th><th>str13</th><th>str13</th><th>str13</th><th>str19</th><th>str13</th><th>str13</th><th>str13</th><th>str13</th><th>str13</th><th>str13</th><th>str13</th><th>str13</th><th>str13</th><th>str13</th><th>str13</th><th>str13</th><th>str13</th><th>str13</th><th>str13</th><th>str13</th><th>str14</th><th>str14</th><th>str14</th><th>str14</th><th>str14</th><th>str13</th><th>str13</th><th>str13</th><th>str13</th><th>str13</th><th>str13</th><th>str13</th><th>str13</th><th>str13</th><th>str13</th><th>str13</th><th>str13</th><th>str13</th><th>str13</th><th>str13</th><th>str13</th><th>str13</th><th>str13</th><th>str13</th><th>str13</th><th>str13</th><th>str13</th><th>str13</th><th>str13</th><th>str13</th><th>str13</th><th>str13</th><th>str13</th><th>str13</th><th>str13</th><th>str14</th><th>str14</th><th>str14</th><th>str14</th><th>str14</th><th>str14</th><th>str13</th><th>str13</th><th>str13</th><th>str13</th><th>str13</th><th>str13</th><th>str13</th></tr></thead>\n",
       "<tr><td>00600601</td><td>ZCTA 00601</td><td>ACSSF</td><td>pr</td><td>860</td><td>00</td><td>0007584</td><td>--</td><td>--</td><td>--</td><td>--</td><td>--</td><td>--</td><td>--</td><td>--</td><td>--</td><td>--</td><td>--</td><td>--</td><td>--</td><td>--</td><td>--</td><td>--</td><td>--</td><td>--</td><td>--</td><td>--</td><td>--</td><td>--</td><td>--</td><td>--</td><td>--</td><td>--</td><td>--</td><td>--</td><td>--</td><td>--</td><td>--</td><td>006</td><td>00601</td><td>--</td><td>--</td><td>--</td><td>--</td><td>--</td><td>--</td><td>--</td><td>--</td><td>--</td><td>--</td><td>86000US00601</td><td>ZCTA 00601</td><td>--</td><td>--</td><td>--</td><td>16773</td><td>16773</td><td>260.662</td><td>64.3476896418053</td><td>16773</td><td>12235</td><td>255</td><td>21</td><td>2</td><td>0</td><td>3703</td><td>557</td><td>11886</td><td>4167</td><td>7719</td><td>4403</td><td>1868</td><td>224</td><td>69</td><td>53</td><td>1993</td><td>674</td><td>540</td><td>465</td><td>314</td><td>14398</td><td>14398</td><td>14578</td><td>21750</td><td>--</td><td>--</td><td>--</td><td>13955</td><td>12500</td><td>14399</td><td>--</td><td>5555</td><td>2703</td><td>2852</td><td>7256</td><td>5423</td><td>11373</td><td>17714</td><td>30260</td><td>55688</td><td>5555</td><td>3562</td><td>1993</td><td>7282</td><td>5555</td><td>1727</td><td>1727</td><td>37</td><td>27</td><td>1663</td><td>6199</td><td>4563</td><td>743</td><td>893</td><td>0</td><td>0</td><td>16722</td><td>5975</td><td>2713</td><td>2082</td><td>2695</td><td>1219</td><td>2038</td></tr>\n",
       "<tr><td>00600602</td><td>ZCTA 00602</td><td>ACSSF</td><td>pr</td><td>860</td><td>00</td><td>0007585</td><td>--</td><td>--</td><td>--</td><td>--</td><td>--</td><td>--</td><td>--</td><td>--</td><td>--</td><td>--</td><td>--</td><td>--</td><td>--</td><td>--</td><td>--</td><td>--</td><td>--</td><td>--</td><td>--</td><td>--</td><td>--</td><td>--</td><td>--</td><td>--</td><td>--</td><td>--</td><td>--</td><td>--</td><td>--</td><td>--</td><td>--</td><td>006</td><td>00602</td><td>--</td><td>--</td><td>--</td><td>--</td><td>--</td><td>--</td><td>--</td><td>--</td><td>--</td><td>--</td><td>86000US00602</td><td>ZCTA 00602</td><td>--</td><td>--</td><td>--</td><td>37083</td><td>37083</td><td>1211.039</td><td>30.620812142759</td><td>37083</td><td>28378</td><td>993</td><td>112</td><td>17</td><td>0</td><td>1177</td><td>6406</td><td>27192</td><td>9289</td><td>17903</td><td>10800</td><td>5575</td><td>1365</td><td>300</td><td>169</td><td>3034</td><td>1041</td><td>797</td><td>778</td><td>418</td><td>16771</td><td>16771</td><td>16993</td><td>--</td><td>--</td><td>--</td><td>--</td><td>12672</td><td>16608</td><td>16383</td><td>23629</td><td>12901</td><td>6675</td><td>6226</td><td>9981</td><td>7169</td><td>13671</td><td>22273</td><td>39554</td><td>82536</td><td>12901</td><td>9867</td><td>3034</td><td>17510</td><td>12901</td><td>4609</td><td>4609</td><td>331</td><td>73</td><td>4205</td><td>7735</td><td>4714</td><td>2350</td><td>671</td><td>0</td><td>0</td><td>36983</td><td>9247</td><td>4691</td><td>4027</td><td>6988</td><td>4585</td><td>7445</td></tr>\n",
       "<tr><td>00600603</td><td>ZCTA 00603</td><td>ACSSF</td><td>pr</td><td>860</td><td>00</td><td>0007586</td><td>--</td><td>--</td><td>--</td><td>--</td><td>--</td><td>--</td><td>--</td><td>--</td><td>--</td><td>--</td><td>--</td><td>--</td><td>--</td><td>--</td><td>--</td><td>--</td><td>--</td><td>--</td><td>--</td><td>--</td><td>--</td><td>--</td><td>--</td><td>--</td><td>--</td><td>--</td><td>--</td><td>--</td><td>--</td><td>--</td><td>--</td><td>006</td><td>00603</td><td>--</td><td>--</td><td>--</td><td>--</td><td>--</td><td>--</td><td>--</td><td>--</td><td>--</td><td>--</td><td>86000US00603</td><td>ZCTA 00603</td><td>--</td><td>--</td><td>--</td><td>45652</td><td>45652</td><td>1443.915</td><td>31.6168260239044</td><td>45652</td><td>35612</td><td>1630</td><td>76</td><td>30</td><td>14</td><td>6273</td><td>2017</td><td>32901</td><td>8880</td><td>24021</td><td>14394</td><td>7653</td><td>2286</td><td>600</td><td>277</td><td>8333</td><td>2453</td><td>2791</td><td>1815</td><td>1274</td><td>15786</td><td>15786</td><td>16649</td><td>13688</td><td>13036</td><td>--</td><td>--</td><td>13805</td><td>14446</td><td>15513</td><td>68147</td><td>19431</td><td>9115</td><td>10316</td><td>11794</td><td>4363</td><td>11666</td><td>21630</td><td>42499</td><td>84062</td><td>19431</td><td>11098</td><td>8333</td><td>24453</td><td>19431</td><td>5022</td><td>5022</td><td>368</td><td>156</td><td>4498</td><td>18694</td><td>11801</td><td>735</td><td>6158</td><td>0</td><td>0</td><td>44796</td><td>14156</td><td>4831</td><td>3908</td><td>6357</td><td>4553</td><td>10991</td></tr>\n",
       "<tr><td>00600606</td><td>ZCTA 00606</td><td>ACSSF</td><td>pr</td><td>860</td><td>00</td><td>0007587</td><td>--</td><td>--</td><td>--</td><td>--</td><td>--</td><td>--</td><td>--</td><td>--</td><td>--</td><td>--</td><td>--</td><td>--</td><td>--</td><td>--</td><td>--</td><td>--</td><td>--</td><td>--</td><td>--</td><td>--</td><td>--</td><td>--</td><td>--</td><td>--</td><td>--</td><td>--</td><td>--</td><td>--</td><td>--</td><td>--</td><td>--</td><td>006</td><td>00606</td><td>--</td><td>--</td><td>--</td><td>--</td><td>--</td><td>--</td><td>--</td><td>--</td><td>--</td><td>--</td><td>86000US00606</td><td>ZCTA 00606</td><td>--</td><td>--</td><td>--</td><td>6231</td><td>6231</td><td>147.2734</td><td>42.3090578025844</td><td>6231</td><td>3159</td><td>96</td><td>22</td><td>0</td><td>0</td><td>2707</td><td>247</td><td>4569</td><td>2061</td><td>2508</td><td>1123</td><td>482</td><td>163</td><td>0</td><td>0</td><td>493</td><td>216</td><td>162</td><td>71</td><td>44</td><td>14980</td><td>14980</td><td>14524</td><td>--</td><td>--</td><td>--</td><td>--</td><td>13690</td><td>16136</td><td>14881</td><td>--</td><td>1983</td><td>1007</td><td>976</td><td>6901</td><td>5620</td><td>10732</td><td>19007</td><td>28400</td><td>53433</td><td>1983</td><td>1490</td><td>493</td><td>2789</td><td>1983</td><td>806</td><td>806</td><td>0</td><td>69</td><td>737</td><td>1659</td><td>1340</td><td>131</td><td>188</td><td>0</td><td>0</td><td>6231</td><td>2479</td><td>890</td><td>332</td><td>1198</td><td>905</td><td>427</td></tr>\n",
       "<tr><td>00600610</td><td>ZCTA 00610</td><td>ACSSF</td><td>pr</td><td>860</td><td>00</td><td>0007588</td><td>--</td><td>--</td><td>--</td><td>--</td><td>--</td><td>--</td><td>--</td><td>--</td><td>--</td><td>--</td><td>--</td><td>--</td><td>--</td><td>--</td><td>--</td><td>--</td><td>--</td><td>--</td><td>--</td><td>--</td><td>--</td><td>--</td><td>--</td><td>--</td><td>--</td><td>--</td><td>--</td><td>--</td><td>--</td><td>--</td><td>--</td><td>006</td><td>00610</td><td>--</td><td>--</td><td>--</td><td>--</td><td>--</td><td>--</td><td>--</td><td>--</td><td>--</td><td>--</td><td>86000US00610</td><td>ZCTA 00610</td><td>--</td><td>--</td><td>--</td><td>26502</td><td>26502</td><td>737.9564</td><td>35.9126883985563</td><td>26502</td><td>20023</td><td>448</td><td>0</td><td>0</td><td>1</td><td>1569</td><td>4461</td><td>19322</td><td>6133</td><td>13189</td><td>7223</td><td>3292</td><td>682</td><td>97</td><td>49</td><td>2288</td><td>779</td><td>728</td><td>416</td><td>365</td><td>20167</td><td>20167</td><td>20887</td><td>14435</td><td>--</td><td>--</td><td>--</td><td>18175</td><td>18553</td><td>19656</td><td>34688</td><td>8864</td><td>4883</td><td>3981</td><td>10643</td><td>8440</td><td>15835</td><td>25291</td><td>40082</td><td>76190</td><td>8864</td><td>6576</td><td>2288</td><td>12454</td><td>8864</td><td>3590</td><td>3590</td><td>337</td><td>120</td><td>3133</td><td>5845</td><td>3593</td><td>1794</td><td>458</td><td>0</td><td>0</td><td>26366</td><td>5198</td><td>3730</td><td>3038</td><td>4541</td><td>3519</td><td>6340</td></tr>\n",
       "<tr><td>00600612</td><td>ZCTA 00612</td><td>ACSSF</td><td>pr</td><td>860</td><td>00</td><td>0007589</td><td>--</td><td>--</td><td>--</td><td>--</td><td>--</td><td>--</td><td>--</td><td>--</td><td>--</td><td>--</td><td>--</td><td>--</td><td>--</td><td>--</td><td>--</td><td>--</td><td>--</td><td>--</td><td>--</td><td>--</td><td>--</td><td>--</td><td>--</td><td>--</td><td>--</td><td>--</td><td>--</td><td>--</td><td>--</td><td>--</td><td>--</td><td>006</td><td>00612</td><td>--</td><td>--</td><td>--</td><td>--</td><td>--</td><td>--</td><td>--</td><td>--</td><td>--</td><td>--</td><td>86000US00612</td><td>ZCTA 00612</td><td>--</td><td>--</td><td>--</td><td>58771</td><td>58771</td><td>869.4832</td><td>67.5930235970205</td><td>58771</td><td>39173</td><td>2394</td><td>36</td><td>535</td><td>0</td><td>11915</td><td>4718</td><td>42106</td><td>8664</td><td>33442</td><td>20997</td><td>10641</td><td>2756</td><td>730</td><td>452</td><td>8865</td><td>1681</td><td>3087</td><td>2605</td><td>1492</td><td>19402</td><td>19402</td><td>19852</td><td>20130</td><td>--</td><td>--</td><td>--</td><td>15739</td><td>23542</td><td>19501</td><td>--</td><td>23327</td><td>11462</td><td>11865</td><td>11639</td><td>5609</td><td>13895</td><td>24840</td><td>42278</td><td>76850</td><td>23327</td><td>14462</td><td>8865</td><td>29628</td><td>23327</td><td>6301</td><td>6301</td><td>542</td><td>323</td><td>5436</td><td>20937</td><td>15074</td><td>1373</td><td>4448</td><td>42</td><td>0</td><td>58577</td><td>14633</td><td>6161</td><td>6307</td><td>10418</td><td>7957</td><td>13101</td></tr>\n",
       "<tr><td>00600616</td><td>ZCTA 00616</td><td>ACSSF</td><td>pr</td><td>860</td><td>00</td><td>0007590</td><td>--</td><td>--</td><td>--</td><td>--</td><td>--</td><td>--</td><td>--</td><td>--</td><td>--</td><td>--</td><td>--</td><td>--</td><td>--</td><td>--</td><td>--</td><td>--</td><td>--</td><td>--</td><td>--</td><td>--</td><td>--</td><td>--</td><td>--</td><td>--</td><td>--</td><td>--</td><td>--</td><td>--</td><td>--</td><td>--</td><td>--</td><td>006</td><td>00616</td><td>--</td><td>--</td><td>--</td><td>--</td><td>--</td><td>--</td><td>--</td><td>--</td><td>--</td><td>--</td><td>86000US00616</td><td>ZCTA 00616</td><td>--</td><td>--</td><td>--</td><td>9688</td><td>9688</td><td>840.2409</td><td>11.5300263939447</td><td>9688</td><td>6650</td><td>763</td><td>0</td><td>59</td><td>0</td><td>1411</td><td>805</td><td>7326</td><td>1920</td><td>5406</td><td>3198</td><td>1539</td><td>281</td><td>58</td><td>58</td><td>798</td><td>100</td><td>270</td><td>316</td><td>112</td><td>18903</td><td>18903</td><td>18324</td><td>--</td><td>--</td><td>--</td><td>--</td><td>18603</td><td>19010</td><td>18622</td><td>--</td><td>3478</td><td>1791</td><td>1687</td><td>10385</td><td>6168</td><td>15043</td><td>25230</td><td>40805</td><td>75202</td><td>3478</td><td>2680</td><td>798</td><td>4652</td><td>3478</td><td>1174</td><td>1174</td><td>66</td><td>69</td><td>1039</td><td>1880</td><td>1784</td><td>0</td><td>61</td><td>0</td><td>35</td><td>9671</td><td>2078</td><td>1054</td><td>1235</td><td>1711</td><td>1790</td><td>1803</td></tr>\n",
       "<tr><td>00600617</td><td>ZCTA 00617</td><td>ACSSF</td><td>pr</td><td>860</td><td>00</td><td>0007591</td><td>--</td><td>--</td><td>--</td><td>--</td><td>--</td><td>--</td><td>--</td><td>--</td><td>--</td><td>--</td><td>--</td><td>--</td><td>--</td><td>--</td><td>--</td><td>--</td><td>--</td><td>--</td><td>--</td><td>--</td><td>--</td><td>--</td><td>--</td><td>--</td><td>--</td><td>--</td><td>--</td><td>--</td><td>--</td><td>--</td><td>--</td><td>006</td><td>00617</td><td>--</td><td>--</td><td>--</td><td>--</td><td>--</td><td>--</td><td>--</td><td>--</td><td>--</td><td>--</td><td>86000US00617</td><td>ZCTA 00617</td><td>--</td><td>--</td><td>--</td><td>23771</td><td>23771</td><td>1564.376</td><td>15.1951931823622</td><td>23771</td><td>16676</td><td>805</td><td>0</td><td>154</td><td>0</td><td>3811</td><td>2325</td><td>16832</td><td>4476</td><td>12356</td><td>6988</td><td>3748</td><td>743</td><td>0</td><td>0</td><td>2158</td><td>396</td><td>614</td><td>693</td><td>455</td><td>17702</td><td>17702</td><td>17800</td><td>--</td><td>--</td><td>--</td><td>--</td><td>17985</td><td>17252</td><td>17590</td><td>56679</td><td>8097</td><td>3869</td><td>4228</td><td>10255</td><td>6623</td><td>13368</td><td>21750</td><td>41953</td><td>71786</td><td>8097</td><td>5939</td><td>2158</td><td>10164</td><td>8097</td><td>2067</td><td>2067</td><td>324</td><td>165</td><td>1578</td><td>6623</td><td>5333</td><td>506</td><td>743</td><td>41</td><td>0</td><td>23756</td><td>6776</td><td>2669</td><td>1527</td><td>4381</td><td>2656</td><td>5747</td></tr>\n",
       "<tr><td>00600622</td><td>ZCTA 00622</td><td>ACSSF</td><td>pr</td><td>860</td><td>00</td><td>0007592</td><td>--</td><td>--</td><td>--</td><td>--</td><td>--</td><td>--</td><td>--</td><td>--</td><td>--</td><td>--</td><td>--</td><td>--</td><td>--</td><td>--</td><td>--</td><td>--</td><td>--</td><td>--</td><td>--</td><td>--</td><td>--</td><td>--</td><td>--</td><td>--</td><td>--</td><td>--</td><td>--</td><td>--</td><td>--</td><td>--</td><td>--</td><td>006</td><td>00622</td><td>--</td><td>--</td><td>--</td><td>--</td><td>--</td><td>--</td><td>--</td><td>--</td><td>--</td><td>--</td><td>86000US00622</td><td>ZCTA 00622</td><td>--</td><td>--</td><td>--</td><td>6505</td><td>6505</td><td>224.3668</td><td>28.9927026688927</td><td>6505</td><td>1716</td><td>45</td><td>0</td><td>0</td><td>0</td><td>4191</td><td>553</td><td>5597</td><td>2018</td><td>3579</td><td>2384</td><td>1142</td><td>327</td><td>15</td><td>15</td><td>604</td><td>211</td><td>123</td><td>144</td><td>126</td><td>15640</td><td>15640</td><td>14063</td><td>--</td><td>--</td><td>--</td><td>--</td><td>15733</td><td>--</td><td>15505</td><td>--</td><td>2282</td><td>1006</td><td>1276</td><td>10070</td><td>6708</td><td>12741</td><td>20289</td><td>34718</td><td>66859</td><td>2282</td><td>1678</td><td>604</td><td>8225</td><td>2282</td><td>5943</td><td>5943</td><td>179</td><td>190</td><td>5574</td><td>1289</td><td>1021</td><td>268</td><td>0</td><td>0</td><td>0</td><td>6409</td><td>1728</td><td>624</td><td>968</td><td>1295</td><td>631</td><td>1163</td></tr>\n",
       "<tr><td>...</td><td>...</td><td>...</td><td>...</td><td>...</td><td>...</td><td>...</td><td>...</td><td>...</td><td>...</td><td>...</td><td>...</td><td>...</td><td>...</td><td>...</td><td>...</td><td>...</td><td>...</td><td>...</td><td>...</td><td>...</td><td>...</td><td>...</td><td>...</td><td>...</td><td>...</td><td>...</td><td>...</td><td>...</td><td>...</td><td>...</td><td>...</td><td>...</td><td>...</td><td>...</td><td>...</td><td>...</td><td>...</td><td>...</td><td>...</td><td>...</td><td>...</td><td>...</td><td>...</td><td>...</td><td>...</td><td>...</td><td>...</td><td>...</td><td>...</td><td>...</td><td>...</td><td>...</td><td>...</td><td>...</td><td>...</td><td>...</td><td>...</td><td>...</td><td>...</td><td>...</td><td>...</td><td>...</td><td>...</td><td>...</td><td>...</td><td>...</td><td>...</td><td>...</td><td>...</td><td>...</td><td>...</td><td>...</td><td>...</td><td>...</td><td>...</td><td>...</td><td>...</td><td>...</td><td>...</td><td>...</td><td>...</td><td>...</td><td>...</td><td>...</td><td>...</td><td>...</td><td>...</td><td>...</td><td>...</td><td>...</td><td>...</td><td>...</td><td>...</td><td>...</td><td>...</td><td>...</td><td>...</td><td>...</td><td>...</td><td>...</td><td>...</td><td>...</td><td>...</td><td>...</td><td>...</td><td>...</td><td>...</td><td>...</td><td>...</td><td>...</td><td>...</td><td>...</td><td>...</td><td>...</td><td>...</td><td>...</td><td>...</td><td>...</td><td>...</td><td>...</td><td>...</td><td>...</td></tr>\n",
       "<tr><td>99999903</td><td>ZCTA 99903</td><td>ACSSF</td><td>us</td><td>860</td><td>00</td><td>0043808</td><td>--</td><td>--</td><td>--</td><td>--</td><td>--</td><td>--</td><td>--</td><td>--</td><td>--</td><td>--</td><td>--</td><td>--</td><td>--</td><td>--</td><td>--</td><td>--</td><td>--</td><td>--</td><td>--</td><td>--</td><td>--</td><td>--</td><td>--</td><td>--</td><td>--</td><td>--</td><td>--</td><td>--</td><td>--</td><td>--</td><td>--</td><td>999</td><td>99903</td><td>--</td><td>--</td><td>--</td><td>--</td><td>--</td><td>--</td><td>--</td><td>--</td><td>--</td><td>--</td><td>86000US99903</td><td>ZCTA 99903</td><td>--</td><td>--</td><td>--</td><td>1</td><td>1</td><td>0.006447256</td><td>155.10474334244</td><td>1</td><td>1</td><td>0</td><td>0</td><td>0</td><td>0</td><td>0</td><td>0</td><td>1</td><td>0</td><td>1</td><td>0</td><td>0</td><td>0</td><td>0</td><td>0</td><td>0</td><td>0</td><td>0</td><td>0</td><td>0</td><td>--</td><td>--</td><td>--</td><td>--</td><td>--</td><td>--</td><td>--</td><td>--</td><td>--</td><td>--</td><td>--</td><td>1</td><td>0</td><td>1</td><td>--</td><td>--</td><td>--</td><td>--</td><td>--</td><td>--</td><td>1</td><td>1</td><td>0</td><td>44</td><td>1</td><td>43</td><td>43</td><td>0</td><td>0</td><td>43</td><td>0</td><td>0</td><td>0</td><td>0</td><td>0</td><td>0</td><td>1</td><td>1</td><td>0</td><td>0</td><td>0</td><td>0</td><td>0</td></tr>\n",
       "<tr><td>99999918</td><td>ZCTA 99918</td><td>ACSSF</td><td>us</td><td>860</td><td>00</td><td>0043809</td><td>--</td><td>--</td><td>--</td><td>--</td><td>--</td><td>--</td><td>--</td><td>--</td><td>--</td><td>--</td><td>--</td><td>--</td><td>--</td><td>--</td><td>--</td><td>--</td><td>--</td><td>--</td><td>--</td><td>--</td><td>--</td><td>--</td><td>--</td><td>--</td><td>--</td><td>--</td><td>--</td><td>--</td><td>--</td><td>--</td><td>--</td><td>999</td><td>99918</td><td>--</td><td>--</td><td>--</td><td>--</td><td>--</td><td>--</td><td>--</td><td>--</td><td>--</td><td>--</td><td>86000US99918</td><td>ZCTA 99918</td><td>--</td><td>--</td><td>--</td><td>271</td><td>271</td><td>7.553785</td><td>35.8760550241932</td><td>271</td><td>260</td><td>0</td><td>4</td><td>0</td><td>0</td><td>0</td><td>7</td><td>180</td><td>18</td><td>162</td><td>76</td><td>15</td><td>5</td><td>0</td><td>0</td><td>12</td><td>0</td><td>0</td><td>8</td><td>4</td><td>53942</td><td>53942</td><td>54167</td><td>--</td><td>--</td><td>--</td><td>--</td><td>--</td><td>--</td><td>--</td><td>55500</td><td>115</td><td>98</td><td>17</td><td>31969</td><td>35263</td><td>41500</td><td>58000</td><td>155263</td><td>157604</td><td>115</td><td>103</td><td>12</td><td>267</td><td>115</td><td>152</td><td>152</td><td>6</td><td>5</td><td>141</td><td>18</td><td>12</td><td>0</td><td>0</td><td>6</td><td>0</td><td>271</td><td>20</td><td>0</td><td>0</td><td>106</td><td>6</td><td>139</td></tr>\n",
       "<tr><td>99999919</td><td>ZCTA 99919</td><td>ACSSF</td><td>us</td><td>860</td><td>00</td><td>0043810</td><td>--</td><td>--</td><td>--</td><td>--</td><td>--</td><td>--</td><td>--</td><td>--</td><td>--</td><td>--</td><td>--</td><td>--</td><td>--</td><td>--</td><td>--</td><td>--</td><td>--</td><td>--</td><td>--</td><td>--</td><td>--</td><td>--</td><td>--</td><td>--</td><td>--</td><td>--</td><td>--</td><td>--</td><td>--</td><td>--</td><td>--</td><td>999</td><td>99919</td><td>--</td><td>--</td><td>--</td><td>--</td><td>--</td><td>--</td><td>--</td><td>--</td><td>--</td><td>--</td><td>86000US99919</td><td>ZCTA 99919</td><td>--</td><td>--</td><td>--</td><td>547</td><td>547</td><td>11.31511</td><td>48.342451007495</td><td>547</td><td>478</td><td>0</td><td>38</td><td>4</td><td>10</td><td>0</td><td>17</td><td>449</td><td>40</td><td>409</td><td>301</td><td>111</td><td>16</td><td>2</td><td>0</td><td>62</td><td>7</td><td>10</td><td>6</td><td>39</td><td>47059</td><td>47059</td><td>46765</td><td>--</td><td>--</td><td>--</td><td>--</td><td>--</td><td>25938</td><td>--</td><td>45441</td><td>264</td><td>182</td><td>82</td><td>28565</td><td>14667</td><td>32000</td><td>56350</td><td>99600</td><td>142107</td><td>264</td><td>202</td><td>62</td><td>408</td><td>264</td><td>144</td><td>144</td><td>15</td><td>0</td><td>129</td><td>113</td><td>60</td><td>29</td><td>0</td><td>24</td><td>0</td><td>533</td><td>39</td><td>26</td><td>15</td><td>52</td><td>42</td><td>359</td></tr>\n",
       "<tr><td>99999921</td><td>ZCTA 99921</td><td>ACSSF</td><td>us</td><td>860</td><td>00</td><td>0043811</td><td>--</td><td>--</td><td>--</td><td>--</td><td>--</td><td>--</td><td>--</td><td>--</td><td>--</td><td>--</td><td>--</td><td>--</td><td>--</td><td>--</td><td>--</td><td>--</td><td>--</td><td>--</td><td>--</td><td>--</td><td>--</td><td>--</td><td>--</td><td>--</td><td>--</td><td>--</td><td>--</td><td>--</td><td>--</td><td>--</td><td>--</td><td>999</td><td>99921</td><td>--</td><td>--</td><td>--</td><td>--</td><td>--</td><td>--</td><td>--</td><td>--</td><td>--</td><td>--</td><td>86000US99921</td><td>ZCTA 99921</td><td>--</td><td>--</td><td>--</td><td>1953</td><td>1953</td><td>0.9565059</td><td>2041.80655045506</td><td>1953</td><td>1368</td><td>17</td><td>259</td><td>20</td><td>0</td><td>5</td><td>284</td><td>1421</td><td>121</td><td>1300</td><td>828</td><td>350</td><td>121</td><td>14</td><td>6</td><td>246</td><td>27</td><td>82</td><td>83</td><td>54</td><td>54549</td><td>54549</td><td>54861</td><td>--</td><td>49500</td><td>--</td><td>--</td><td>--</td><td>49871</td><td>49095</td><td>54583</td><td>827</td><td>682</td><td>145</td><td>34803</td><td>25881</td><td>48425</td><td>68826</td><td>104125</td><td>186625</td><td>827</td><td>581</td><td>246</td><td>1154</td><td>827</td><td>327</td><td>327</td><td>12</td><td>14</td><td>301</td><td>580</td><td>154</td><td>141</td><td>63</td><td>211</td><td>11</td><td>1932</td><td>90</td><td>136</td><td>108</td><td>126</td><td>96</td><td>1376</td></tr>\n",
       "<tr><td>99999922</td><td>ZCTA 99922</td><td>ACSSF</td><td>us</td><td>860</td><td>00</td><td>0043812</td><td>--</td><td>--</td><td>--</td><td>--</td><td>--</td><td>--</td><td>--</td><td>--</td><td>--</td><td>--</td><td>--</td><td>--</td><td>--</td><td>--</td><td>--</td><td>--</td><td>--</td><td>--</td><td>--</td><td>--</td><td>--</td><td>--</td><td>--</td><td>--</td><td>--</td><td>--</td><td>--</td><td>--</td><td>--</td><td>--</td><td>--</td><td>999</td><td>99922</td><td>--</td><td>--</td><td>--</td><td>--</td><td>--</td><td>--</td><td>--</td><td>--</td><td>--</td><td>--</td><td>86000US99922</td><td>ZCTA 99922</td><td>--</td><td>--</td><td>--</td><td>383</td><td>383</td><td>3.332379</td><td>114.932906252848</td><td>383</td><td>59</td><td>4</td><td>234</td><td>10</td><td>30</td><td>0</td><td>46</td><td>273</td><td>19</td><td>254</td><td>107</td><td>31</td><td>11</td><td>0</td><td>0</td><td>41</td><td>2</td><td>13</td><td>18</td><td>8</td><td>38750</td><td>38750</td><td>123333</td><td>--</td><td>35000</td><td>--</td><td>--</td><td>--</td><td>38750</td><td>--</td><td>123333</td><td>128</td><td>82</td><td>46</td><td>24898</td><td>21833</td><td>31333</td><td>51500</td><td>84000</td><td>134000</td><td>128</td><td>87</td><td>41</td><td>148</td><td>128</td><td>20</td><td>20</td><td>5</td><td>0</td><td>15</td><td>117</td><td>96</td><td>2</td><td>17</td><td>2</td><td>0</td><td>383</td><td>45</td><td>34</td><td>24</td><td>54</td><td>37</td><td>189</td></tr>\n",
       "<tr><td>99999923</td><td>ZCTA 99923</td><td>ACSSF</td><td>us</td><td>860</td><td>00</td><td>0043813</td><td>--</td><td>--</td><td>--</td><td>--</td><td>--</td><td>--</td><td>--</td><td>--</td><td>--</td><td>--</td><td>--</td><td>--</td><td>--</td><td>--</td><td>--</td><td>--</td><td>--</td><td>--</td><td>--</td><td>--</td><td>--</td><td>--</td><td>--</td><td>--</td><td>--</td><td>--</td><td>--</td><td>--</td><td>--</td><td>--</td><td>--</td><td>999</td><td>99923</td><td>--</td><td>--</td><td>--</td><td>--</td><td>--</td><td>--</td><td>--</td><td>--</td><td>--</td><td>--</td><td>86000US99923</td><td>ZCTA 99923</td><td>--</td><td>--</td><td>--</td><td>12</td><td>12</td><td>0.7313734</td><td>16.4074876022592</td><td>12</td><td>12</td><td>0</td><td>0</td><td>0</td><td>0</td><td>0</td><td>0</td><td>12</td><td>0</td><td>12</td><td>12</td><td>12</td><td>0</td><td>0</td><td>0</td><td>0</td><td>0</td><td>0</td><td>0</td><td>0</td><td>--</td><td>--</td><td>--</td><td>--</td><td>--</td><td>--</td><td>--</td><td>--</td><td>--</td><td>--</td><td>--</td><td>12</td><td>12</td><td>0</td><td>--</td><td>--</td><td>--</td><td>--</td><td>--</td><td>--</td><td>12</td><td>12</td><td>0</td><td>75</td><td>12</td><td>63</td><td>63</td><td>0</td><td>7</td><td>56</td><td>0</td><td>0</td><td>0</td><td>0</td><td>0</td><td>0</td><td>12</td><td>0</td><td>0</td><td>0</td><td>0</td><td>0</td><td>12</td></tr>\n",
       "<tr><td>99999925</td><td>ZCTA 99925</td><td>ACSSF</td><td>us</td><td>860</td><td>00</td><td>0043814</td><td>--</td><td>--</td><td>--</td><td>--</td><td>--</td><td>--</td><td>--</td><td>--</td><td>--</td><td>--</td><td>--</td><td>--</td><td>--</td><td>--</td><td>--</td><td>--</td><td>--</td><td>--</td><td>--</td><td>--</td><td>--</td><td>--</td><td>--</td><td>--</td><td>--</td><td>--</td><td>--</td><td>--</td><td>--</td><td>--</td><td>--</td><td>999</td><td>99925</td><td>--</td><td>--</td><td>--</td><td>--</td><td>--</td><td>--</td><td>--</td><td>--</td><td>--</td><td>--</td><td>86000US99925</td><td>ZCTA 99925</td><td>--</td><td>--</td><td>--</td><td>990</td><td>990</td><td>17.79739</td><td>55.6261418971825</td><td>990</td><td>479</td><td>8</td><td>365</td><td>7</td><td>0</td><td>0</td><td>131</td><td>713</td><td>71</td><td>642</td><td>347</td><td>105</td><td>43</td><td>0</td><td>0</td><td>106</td><td>11</td><td>46</td><td>37</td><td>12</td><td>63125</td><td>63125</td><td>75893</td><td>--</td><td>48125</td><td>--</td><td>--</td><td>--</td><td>41875</td><td>67500</td><td>75714</td><td>365</td><td>262</td><td>103</td><td>30453</td><td>20119</td><td>42083</td><td>80938</td><td>141500</td><td>173839</td><td>365</td><td>259</td><td>106</td><td>468</td><td>365</td><td>103</td><td>103</td><td>18</td><td>0</td><td>85</td><td>279</td><td>170</td><td>62</td><td>30</td><td>13</td><td>4</td><td>989</td><td>79</td><td>28</td><td>72</td><td>73</td><td>92</td><td>645</td></tr>\n",
       "<tr><td>99999926</td><td>ZCTA 99926</td><td>ACSSF</td><td>us</td><td>860</td><td>00</td><td>0043815</td><td>--</td><td>--</td><td>--</td><td>--</td><td>--</td><td>--</td><td>--</td><td>--</td><td>--</td><td>--</td><td>--</td><td>--</td><td>--</td><td>--</td><td>--</td><td>--</td><td>--</td><td>--</td><td>--</td><td>--</td><td>--</td><td>--</td><td>--</td><td>--</td><td>--</td><td>--</td><td>--</td><td>--</td><td>--</td><td>--</td><td>--</td><td>999</td><td>99926</td><td>--</td><td>--</td><td>--</td><td>--</td><td>--</td><td>--</td><td>--</td><td>--</td><td>--</td><td>--</td><td>86000US99926</td><td>ZCTA 99926</td><td>--</td><td>--</td><td>--</td><td>1582</td><td>1582</td><td>11.91285</td><td>132.797748869879</td><td>1582</td><td>174</td><td>0</td><td>1294</td><td>41</td><td>0</td><td>12</td><td>61</td><td>1012</td><td>87</td><td>925</td><td>499</td><td>90</td><td>35</td><td>5</td><td>0</td><td>102</td><td>12</td><td>34</td><td>34</td><td>22</td><td>58000</td><td>58000</td><td>160769</td><td>--</td><td>47344</td><td>--</td><td>--</td><td>--</td><td>54643</td><td>--</td><td>160769</td><td>440</td><td>329</td><td>111</td><td>22153</td><td>26333</td><td>45000</td><td>77917</td><td>111250</td><td>161346</td><td>440</td><td>338</td><td>102</td><td>508</td><td>440</td><td>68</td><td>68</td><td>11</td><td>0</td><td>57</td><td>396</td><td>251</td><td>8</td><td>120</td><td>17</td><td>0</td><td>1568</td><td>79</td><td>46</td><td>209</td><td>149</td><td>146</td><td>939</td></tr>\n",
       "<tr><td>99999927</td><td>ZCTA 99927</td><td>ACSSF</td><td>us</td><td>860</td><td>00</td><td>0043816</td><td>--</td><td>--</td><td>--</td><td>--</td><td>--</td><td>--</td><td>--</td><td>--</td><td>--</td><td>--</td><td>--</td><td>--</td><td>--</td><td>--</td><td>--</td><td>--</td><td>--</td><td>--</td><td>--</td><td>--</td><td>--</td><td>--</td><td>--</td><td>--</td><td>--</td><td>--</td><td>--</td><td>--</td><td>--</td><td>--</td><td>--</td><td>999</td><td>99927</td><td>--</td><td>--</td><td>--</td><td>--</td><td>--</td><td>--</td><td>--</td><td>--</td><td>--</td><td>--</td><td>86000US99927</td><td>ZCTA 99927</td><td>--</td><td>--</td><td>--</td><td>0</td><td>0</td><td>0</td><td>227.665166016213</td><td>0</td><td>0</td><td>0</td><td>0</td><td>0</td><td>0</td><td>0</td><td>0</td><td>0</td><td>0</td><td>0</td><td>0</td><td>0</td><td>0</td><td>0</td><td>0</td><td>0</td><td>0</td><td>0</td><td>0</td><td>0</td><td>--</td><td>--</td><td>--</td><td>--</td><td>--</td><td>--</td><td>--</td><td>--</td><td>--</td><td>--</td><td>--</td><td>0</td><td>0</td><td>0</td><td>--</td><td>--</td><td>--</td><td>--</td><td>--</td><td>--</td><td>0</td><td>0</td><td>0</td><td>48</td><td>0</td><td>48</td><td>48</td><td>0</td><td>0</td><td>48</td><td>0</td><td>0</td><td>0</td><td>0</td><td>0</td><td>0</td><td>0</td><td>0</td><td>0</td><td>0</td><td>0</td><td>0</td><td>0</td></tr>\n",
       "<tr><td>99999929</td><td>ZCTA 99929</td><td>ACSSF</td><td>us</td><td>860</td><td>00</td><td>0043817</td><td>--</td><td>--</td><td>--</td><td>--</td><td>--</td><td>--</td><td>--</td><td>--</td><td>--</td><td>--</td><td>--</td><td>--</td><td>--</td><td>--</td><td>--</td><td>--</td><td>--</td><td>--</td><td>--</td><td>--</td><td>--</td><td>--</td><td>--</td><td>--</td><td>--</td><td>--</td><td>--</td><td>--</td><td>--</td><td>--</td><td>--</td><td>999</td><td>99929</td><td>--</td><td>--</td><td>--</td><td>--</td><td>--</td><td>--</td><td>--</td><td>--</td><td>--</td><td>--</td><td>86000US99929</td><td>ZCTA 99929</td><td>--</td><td>--</td><td>--</td><td>2509</td><td>2509</td><td>1.153003</td><td>2176.05752613526</td><td>2509</td><td>1635</td><td>8</td><td>571</td><td>43</td><td>32</td><td>12</td><td>208</td><td>1876</td><td>220</td><td>1656</td><td>1046</td><td>317</td><td>101</td><td>11</td><td>5</td><td>284</td><td>29</td><td>88</td><td>135</td><td>32</td><td>58542</td><td>58542</td><td>63548</td><td>--</td><td>50114</td><td>121250</td><td>--</td><td>--</td><td>41094</td><td>--</td><td>63508</td><td>988</td><td>713</td><td>275</td><td>32170</td><td>29969</td><td>46278</td><td>71048</td><td>121063</td><td>156800</td><td>988</td><td>704</td><td>284</td><td>1399</td><td>988</td><td>411</td><td>411</td><td>42</td><td>2</td><td>367</td><td>695</td><td>384</td><td>152</td><td>133</td><td>26</td><td>0</td><td>2486</td><td>140</td><td>19</td><td>40</td><td>216</td><td>397</td><td>1674</td></tr>\n",
       "</table></div>"
      ],
      "text/plain": [
       "<Table length=33120>\n",
       "  FIPS   ... Population for Whom Poverty Status Is Determined: 2.00 and Over\n",
       "  str8   ...                              str13                             \n",
       "-------- ... ---------------------------------------------------------------\n",
       "00600601 ...                                                            2038\n",
       "00600602 ...                                                            7445\n",
       "00600603 ...                                                           10991\n",
       "00600606 ...                                                             427\n",
       "00600610 ...                                                            6340\n",
       "00600612 ...                                                           13101\n",
       "00600616 ...                                                            1803\n",
       "00600617 ...                                                            5747\n",
       "00600622 ...                                                            1163\n",
       "     ... ...                                                             ...\n",
       "99999903 ...                                                               0\n",
       "99999918 ...                                                             139\n",
       "99999919 ...                                                             359\n",
       "99999921 ...                                                            1376\n",
       "99999922 ...                                                             189\n",
       "99999923 ...                                                              12\n",
       "99999925 ...                                                             645\n",
       "99999926 ...                                                             939\n",
       "99999927 ...                                                               0\n",
       "99999929 ...                                                            1674"
      ]
     },
     "execution_count": 4,
     "metadata": {},
     "output_type": "execute_result"
    }
   ],
   "source": [
    "census"
   ]
  },
  {
   "cell_type": "markdown",
   "metadata": {},
   "source": [
    "compile \n",
    "1. median_household_income\n",
    "2. population\n",
    "3. renter_fraction \n",
    "4. educated_fraction\n",
    "5. white_fraction"
   ]
  },
  {
   "cell_type": "code",
   "execution_count": 7,
   "metadata": {},
   "outputs": [],
   "source": [
    "income = np.array(census['Median Household Income (In 2020 Inflation Adjusted Dollars)']).astype(float)\n",
    "income = Table.MaskedColumn(income, dtype=float)\n",
    "\n",
    "population = np.array(census['Total Population']).astype(float)\n",
    "population = Table.MaskedColumn(population, dtype=float)"
   ]
  },
  {
   "cell_type": "code",
   "execution_count": 9,
   "metadata": {},
   "outputs": [
    {
     "name": "stderr",
     "output_type": "stream",
     "text": [
      "/tmp/ipykernel_2701335/1273455776.py:1: RuntimeWarning: invalid value encountered in divide\n",
      "  renter_fraction = (np.array(census['Total Population in Occupied Housing Units: Renter Occupied'].data).astype(float) /\n"
     ]
    }
   ],
   "source": [
    "renter_fraction = (np.array(census['Total Population in Occupied Housing Units: Renter Occupied'].data).astype(float) / \n",
    "                   np.array(census['Total Population'].data).astype(float))\n",
    "renter_fraction = Table.MaskedColumn(renter_fraction, dtype=float)\n",
    "renter_fraction.mask = np.array(census['Total Population'].data).astype(float) == 0."
   ]
  },
  {
   "cell_type": "code",
   "execution_count": 10,
   "metadata": {},
   "outputs": [
    {
     "name": "stderr",
     "output_type": "stream",
     "text": [
      "/tmp/ipykernel_2701335/1386555845.py:2: RuntimeWarning: invalid value encountered in divide\n",
      "  np.array(census['Population 25 Years and Over: Bachelor\\'s Degree or More'].data).astype(float) /\n"
     ]
    }
   ],
   "source": [
    "educated_fraction = (\n",
    "    np.array(census['Population 25 Years and Over: Bachelor\\'s Degree or More'].data).astype(float) / \n",
    "    np.array(census['Population 25 Years and Over:'].data).astype(float))\n",
    "\n",
    "educated_fraction = Table.MaskedColumn(educated_fraction, dtype=float)\n",
    "educated_fraction.mask = np.array(census['Population 25 Years and Over:'].data).astype(float) == 0."
   ]
  },
  {
   "cell_type": "code",
   "execution_count": 11,
   "metadata": {},
   "outputs": [
    {
     "name": "stderr",
     "output_type": "stream",
     "text": [
      "/tmp/ipykernel_2701335/2063348824.py:2: RuntimeWarning: invalid value encountered in divide\n",
      "  np.array(census['Total Population: White Alone'].data).astype(float) /\n"
     ]
    }
   ],
   "source": [
    "white_fraction = (\n",
    "    np.array(census['Total Population: White Alone'].data).astype(float) / \n",
    "    np.array(census['Total Population'].data).astype(float))\n",
    "\n",
    "white_fraction = Table.MaskedColumn(white_fraction, dtype=float)\n",
    "white_fraction.mask = np.array(census['Total Population'].data).astype(float) == 0."
   ]
  },
  {
   "cell_type": "code",
   "execution_count": 12,
   "metadata": {},
   "outputs": [
    {
     "name": "stdout",
     "output_type": "stream",
     "text": [
      "0.99 masked\n"
     ]
    }
   ],
   "source": [
    "combined_mask = income.mask | population.mask | renter_fraction.mask | educated_fraction.mask | white_fraction.mask\n",
    "print('%.2f masked' % np.mean(~combined_mask)) "
   ]
  },
  {
   "cell_type": "code",
   "execution_count": 13,
   "metadata": {},
   "outputs": [],
   "source": [
    "output = Table()\n",
    "output['ZIPCODE'] = np.array([int(name.split(' ')[1]) for name in census['Qualifying Name']])[~combined_mask]\n",
    "output['income'] = income[~combined_mask]\n",
    "output['population'] = population[~combined_mask]\n",
    "output['renter_fraction'] = renter_fraction[~combined_mask]\n",
    "output['educated_fraction'] = educated_fraction[~combined_mask]\n",
    "output['white_fraction'] = white_fraction[~combined_mask]"
   ]
  },
  {
   "cell_type": "code",
   "execution_count": 14,
   "metadata": {},
   "outputs": [
    {
     "data": {
      "text/html": [
       "<div><i>Table length=32713</i>\n",
       "<table id=\"table22901906749616\" class=\"table-striped table-bordered table-condensed\">\n",
       "<thead><tr><th>ZIPCODE</th><th>income</th><th>population</th><th>renter_fraction</th><th>educated_fraction</th><th>white_fraction</th></tr></thead>\n",
       "<thead><tr><th>int64</th><th>float64</th><th>float64</th><th>float64</th><th>float64</th><th>float64</th></tr></thead>\n",
       "<tr><td>601</td><td>14398.0</td><td>16773.0</td><td>0.36958206641626423</td><td>0.15715968366145044</td><td>0.7294461336672032</td></tr>\n",
       "<tr><td>602</td><td>16771.0</td><td>37083.0</td><td>0.20858614459455815</td><td>0.20502353633421594</td><td>0.7652563169107138</td></tr>\n",
       "<tr><td>603</td><td>15786.0</td><td>45652.0</td><td>0.4094891790063962</td><td>0.23260691164402297</td><td>0.7800753526680102</td></tr>\n",
       "<tr><td>606</td><td>14980.0</td><td>6231.0</td><td>0.26624939817043813</td><td>0.10549354344495514</td><td>0.5069812229176697</td></tr>\n",
       "<tr><td>610</td><td>20167.0</td><td>26502.0</td><td>0.22054939249867936</td><td>0.17037573750129387</td><td>0.7555278846879481</td></tr>\n",
       "<tr><td>612</td><td>19402.0</td><td>58771.0</td><td>0.3562471286859165</td><td>0.2527193274117703</td><td>0.6665362168416396</td></tr>\n",
       "<tr><td>616</td><td>18903.0</td><td>9688.0</td><td>0.19405450041288191</td><td>0.21007371007371006</td><td>0.6864161849710982</td></tr>\n",
       "<tr><td>617</td><td>17702.0</td><td>23771.0</td><td>0.2786168019856127</td><td>0.22267110266159695</td><td>0.7015270708005553</td></tr>\n",
       "<tr><td>622</td><td>15640.0</td><td>6505.0</td><td>0.19815526518063029</td><td>0.20403787743433982</td><td>0.26379707916986933</td></tr>\n",
       "<tr><td>...</td><td>...</td><td>...</td><td>...</td><td>...</td><td>...</td></tr>\n",
       "<tr><td>99901</td><td>74678.0</td><td>13850.0</td><td>0.32498194945848374</td><td>0.2544049459041731</td><td>0.6506859205776173</td></tr>\n",
       "<tr><td>99903</td><td>0.0</td><td>1.0</td><td>0.0</td><td>0.0</td><td>1.0</td></tr>\n",
       "<tr><td>99918</td><td>53942.0</td><td>271.0</td><td>0.06642066420664207</td><td>0.08333333333333333</td><td>0.959409594095941</td></tr>\n",
       "<tr><td>99919</td><td>47059.0</td><td>547.0</td><td>0.20658135283363802</td><td>0.24721603563474387</td><td>0.8738574040219378</td></tr>\n",
       "<tr><td>99921</td><td>54549.0</td><td>1953.0</td><td>0.296979006656426</td><td>0.24630541871921183</td><td>0.7004608294930875</td></tr>\n",
       "<tr><td>99922</td><td>38750.0</td><td>383.0</td><td>0.30548302872062666</td><td>0.11355311355311355</td><td>0.15404699738903394</td></tr>\n",
       "<tr><td>99923</td><td>0.0</td><td>12.0</td><td>0.0</td><td>1.0</td><td>1.0</td></tr>\n",
       "<tr><td>99925</td><td>63125.0</td><td>990.0</td><td>0.2818181818181818</td><td>0.14726507713884993</td><td>0.48383838383838385</td></tr>\n",
       "<tr><td>99926</td><td>58000.0</td><td>1582.0</td><td>0.2503160556257901</td><td>0.08893280632411067</td><td>0.10998735777496839</td></tr>\n",
       "<tr><td>99929</td><td>58542.0</td><td>2509.0</td><td>0.27700278995615785</td><td>0.1689765458422175</td><td>0.6516540454364289</td></tr>\n",
       "</table></div>"
      ],
      "text/plain": [
       "<Table length=32713>\n",
       "ZIPCODE  income population ...  educated_fraction     white_fraction  \n",
       " int64  float64  float64   ...       float64             float64      \n",
       "------- ------- ---------- ... ------------------- -------------------\n",
       "    601 14398.0    16773.0 ... 0.15715968366145044  0.7294461336672032\n",
       "    602 16771.0    37083.0 ... 0.20502353633421594  0.7652563169107138\n",
       "    603 15786.0    45652.0 ... 0.23260691164402297  0.7800753526680102\n",
       "    606 14980.0     6231.0 ... 0.10549354344495514  0.5069812229176697\n",
       "    610 20167.0    26502.0 ... 0.17037573750129387  0.7555278846879481\n",
       "    612 19402.0    58771.0 ...  0.2527193274117703  0.6665362168416396\n",
       "    616 18903.0     9688.0 ... 0.21007371007371006  0.6864161849710982\n",
       "    617 17702.0    23771.0 ... 0.22267110266159695  0.7015270708005553\n",
       "    622 15640.0     6505.0 ... 0.20403787743433982 0.26379707916986933\n",
       "    ...     ...        ... ...                 ...                 ...\n",
       "  99901 74678.0    13850.0 ...  0.2544049459041731  0.6506859205776173\n",
       "  99903     0.0        1.0 ...                 0.0                 1.0\n",
       "  99918 53942.0      271.0 ... 0.08333333333333333   0.959409594095941\n",
       "  99919 47059.0      547.0 ... 0.24721603563474387  0.8738574040219378\n",
       "  99921 54549.0     1953.0 ... 0.24630541871921183  0.7004608294930875\n",
       "  99922 38750.0      383.0 ... 0.11355311355311355 0.15404699738903394\n",
       "  99923     0.0       12.0 ...                 1.0                 1.0\n",
       "  99925 63125.0      990.0 ... 0.14726507713884993 0.48383838383838385\n",
       "  99926 58000.0     1582.0 ... 0.08893280632411067 0.10998735777496839\n",
       "  99929 58542.0     2509.0 ...  0.1689765458422175  0.6516540454364289"
      ]
     },
     "execution_count": 14,
     "metadata": {},
     "output_type": "execute_result"
    }
   ],
   "source": [
    "output"
   ]
  },
  {
   "cell_type": "code",
   "execution_count": 15,
   "metadata": {},
   "outputs": [
    {
     "name": "stderr",
     "output_type": "stream",
     "text": [
      "/home/chhahn/.conda/envs/sbi/lib/python3.10/site-packages/astropy/io/misc/hdf5.py:281: UserWarning: table path was not set via the path= argument; using default path __astropy_table__\n",
      "  warnings.warn(\n",
      "WARNING: Attribute `__serialized_columns__` of type <class 'dict'> cannot be written to HDF5 files - skipping. (Consider specifying serialize_meta=True to write all meta data) [astropy.io.misc.hdf5]\n"
     ]
    }
   ],
   "source": [
    "output.write('/scratch/gpfs/chhahn/noah/floody/floody.acs_census.hdf5', format='hdf5', overwrite=True)"
   ]
  },
  {
   "cell_type": "code",
   "execution_count": null,
   "metadata": {},
   "outputs": [],
   "source": []
  }
 ],
 "metadata": {
  "kernelspec": {
   "display_name": "sbi [~/.conda/envs/sbi/]",
   "language": "python",
   "name": "conda_sbi"
  },
  "language_info": {
   "codemirror_mode": {
    "name": "ipython",
    "version": 3
   },
   "file_extension": ".py",
   "mimetype": "text/x-python",
   "name": "python",
   "nbconvert_exporter": "python",
   "pygments_lexer": "ipython3",
   "version": "3.10.14"
  }
 },
 "nbformat": 4,
 "nbformat_minor": 4
}
