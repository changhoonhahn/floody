{
 "cells": [
  {
   "cell_type": "code",
   "execution_count": 1,
   "id": "cf9213d3-e92c-49b3-b2f9-41b68e41d449",
   "metadata": {},
   "outputs": [],
   "source": [
    "import numpy as np \n",
    "import torch\n",
    "\n",
    "# floody \n",
    "from floody import data as D"
   ]
  },
  {
   "cell_type": "code",
   "execution_count": 2,
   "id": "1e58aef2-be7e-4311-8518-5951bf0df77d",
   "metadata": {},
   "outputs": [],
   "source": [
    "# causalflow \n",
    "from causalflow import causalflow"
   ]
  },
  {
   "cell_type": "code",
   "execution_count": 3,
   "id": "9eaae8b5",
   "metadata": {},
   "outputs": [],
   "source": [
    "# --- plotting ---\n",
    "import matplotlib as mpl\n",
    "import matplotlib.pyplot as plt\n",
    "mpl.rcParams['text.usetex'] = True\n",
    "mpl.rcParams['font.family'] = 'serif'\n",
    "mpl.rcParams['axes.linewidth'] = 1.5\n",
    "mpl.rcParams['axes.xmargin'] = 1\n",
    "mpl.rcParams['xtick.labelsize'] = 'x-large'\n",
    "mpl.rcParams['xtick.major.size'] = 5\n",
    "mpl.rcParams['xtick.major.width'] = 1.5\n",
    "mpl.rcParams['ytick.labelsize'] = 'x-large'\n",
    "mpl.rcParams['ytick.major.size'] = 5\n",
    "mpl.rcParams['ytick.major.width'] = 1.5\n",
    "mpl.rcParams['legend.frameon'] = False"
   ]
  },
  {
   "cell_type": "code",
   "execution_count": 4,
   "id": "90d82935-e6ce-4d20-b4fc-60a292f2211c",
   "metadata": {},
   "outputs": [],
   "source": [
    "cuda = torch.cuda.is_available()\n",
    "device = (\"cuda:0\" if cuda else \"cpu\")"
   ]
  },
  {
   "cell_type": "markdown",
   "id": "f790f2d3-81ee-489a-b99f-f90249d4ef63",
   "metadata": {},
   "source": [
    "# training/testing data "
   ]
  },
  {
   "cell_type": "code",
   "execution_count": 5,
   "id": "5fbe685a-f09f-49f1-ae08-2f3a10ea63fa",
   "metadata": {},
   "outputs": [],
   "source": [
    "fema = D.FEMA()"
   ]
  },
  {
   "cell_type": "code",
   "execution_count": 6,
   "id": "3cf5836b-1932-4ea8-a2ca-3b717276e175",
   "metadata": {},
   "outputs": [],
   "source": [
    "# load test data\n",
    "_, XY_treated = fema.prepare_train_test('treated', split=0.9, seed=42)\n",
    "_, XY_control = fema.prepare_train_test('control', split=0.9, seed=42)"
   ]
  },
  {
   "cell_type": "code",
   "execution_count": 7,
   "id": "361bdec2-dee2-499c-b1ff-7978729dd976",
   "metadata": {},
   "outputs": [],
   "source": [
    "# reduce dynamic range of data\n",
    "XY_treated[:,0] = np.log10(XY_treated[:,0])\n",
    "XY_treated[:,3] = np.log10(XY_treated[:,3])\n",
    "XY_treated[:,4] = np.log10(XY_treated[:,4])\n",
    "\n",
    "# reduce dynamic range of data\n",
    "XY_control[:,0] = np.log10(XY_control[:,0])\n",
    "XY_control[:,3] = np.log10(XY_control[:,3])\n",
    "XY_control[:,4] = np.log10(XY_control[:,4])"
   ]
  },
  {
   "cell_type": "markdown",
   "id": "394f28bb-eb38-4b11-988d-8c99ebcca144",
   "metadata": {},
   "source": [
    "# `CausalFlow`"
   ]
  },
  {
   "cell_type": "code",
   "execution_count": 8,
   "id": "28d48e97-18da-4216-adc1-e9c399cb2897",
   "metadata": {},
   "outputs": [],
   "source": [
    "# declare Scenario A CausalFlow\n",
    "Cflow = causalflow.CausalFlowA(device=device)"
   ]
  },
  {
   "cell_type": "code",
   "execution_count": null,
   "id": "264297ea",
   "metadata": {},
   "outputs": [],
   "source": [
    "flows = Cflow._load_flows_optuna('flow.treated', '/scratch/gpfs/chhahn/noah/floody/flow/')\n",
    "\n",
    "alpha_lin = np.linspace(0., 1., 20)\n",
    "ecps_lin_t = []\n",
    "for ii in range(11):\n",
    "    alpha_t, ecp_t = Cflow._validate(flows, XY_treated[:,1:], XY_treated[:,0][:,None], Nsample=10000, verbose=False)\n",
    "    ecps_lin_t.append(np.interp(alpha_lin, alpha_t, ecp_t))\n",
    "\n",
    "flows = Cflow._load_flows_optuna('flow.control', '/scratch/gpfs/chhahn/noah/floody/flow/')\n",
    "for ii in range(11):\n",
    "    alpha_c, ecp_c = Cflow._validate(flows, XY_control[:,1:], XY_control[:,0][:,None], Nsample=10000, verbose=False)\n",
    "    ecps_lin_c.append(np.interp(alpha_lin, alpha_c, ecp_c))"
   ]
  },
  {
   "cell_type": "code",
   "execution_count": null,
   "id": "8d559c5f",
   "metadata": {},
   "outputs": [],
   "source": [
    "fig = plt.figure(figsize=(8,8))\n",
    "ax = fig.add_subplot(111)\n",
    "\n",
    "ax.plot(alpha_lin, np.median(np.array(ecps_lin_t), axis=0), label='Treated Flow')\n",
    "ax.plot(alpha_lin, np.median(np.array(ecps_lin_c), axis=0), label='Control Flow')\n",
    "ax.plot([0, 1], [0, 1], ls=\"--\", color=\"k\")\n",
    "\n",
    "ax.legend(loc='lower right', handletextpad=0.1, fontsize=15)\n",
    "ax.set_ylabel(\"Expected Coverage\", fontsize=25)\n",
    "ax.set_ylim(0., 1.)\n",
    "ax.set_xlabel(\"Credibility Level\", fontsize=25)\n",
    "ax.set_xlim(0., 1.)\n",
    "fig.savefig('flow_valid.pdf', bbox_inches='tight')"
   ]
  },
  {
   "cell_type": "code",
   "execution_count": null,
   "id": "332862bb-f733-47c5-acee-db8b6beb3cff",
   "metadata": {},
   "outputs": [],
   "source": []
  }
 ],
 "metadata": {
  "kernelspec": {
   "display_name": "sbi",
   "language": "python",
   "name": "sbi"
  },
  "language_info": {
   "codemirror_mode": {
    "name": "ipython",
    "version": 3
   },
   "file_extension": ".py",
   "mimetype": "text/x-python",
   "name": "python",
   "nbconvert_exporter": "python",
   "pygments_lexer": "ipython3",
   "version": "3.10.14"
  }
 },
 "nbformat": 4,
 "nbformat_minor": 5
}
